{
  "nbformat": 4,
  "nbformat_minor": 0,
  "metadata": {
    "colab": {
      "name": "Exercise1.ipynb",
      "provenance": [],
      "authorship_tag": "ABX9TyPjhLOLYrZ/KrOX3B68CAi3",
      "include_colab_link": true
    },
    "kernelspec": {
      "name": "python3",
      "display_name": "Python 3"
    }
  },
  "cells": [
    {
      "cell_type": "markdown",
      "metadata": {
        "id": "view-in-github",
        "colab_type": "text"
      },
      "source": [
        "<a href=\"https://colab.research.google.com/github/BPerez2021/Spring2021/blob/main/Exercise1-3.ipynb\" target=\"_parent\"><img src=\"https://colab.research.google.com/assets/colab-badge.svg\" alt=\"Open In Colab\"/></a>"
      ]
    },
    {
      "cell_type": "markdown",
      "metadata": {
        "id": "ORt6Ry9lK_sx"
      },
      "source": [
        "Ex. 1\r\n",
        "\r\n",
        "---\r\n",
        "\r\n",
        "\r\n",
        "Using stories Peter Pan and Hansel and Gretel I am going to attempt to have the code create a story."
      ]
    },
    {
      "cell_type": "code",
      "metadata": {
        "colab": {
          "base_uri": "https://localhost:8080/"
        },
        "id": "9rU_XzeyK-m0",
        "outputId": "c4524fd2-cefc-437b-b9e0-9c5e8999e200"
      },
      "source": [
        "!pip install markovify\r\n",
        "!pip install dominate\r\n",
        "!pip install wkhtmltopdf\r\n"
      ],
      "execution_count": 92,
      "outputs": [
        {
          "output_type": "stream",
          "text": [
            "Requirement already satisfied: markovify in /usr/local/lib/python3.6/dist-packages (0.8.3)\n",
            "Requirement already satisfied: unidecode in /usr/local/lib/python3.6/dist-packages (from markovify) (1.1.2)\n",
            "Requirement already satisfied: dominate in /usr/local/lib/python3.6/dist-packages (2.6.0)\n",
            "Requirement already satisfied: wkhtmltopdf in /usr/local/lib/python3.6/dist-packages (0.2)\n"
          ],
          "name": "stdout"
        }
      ]
    },
    {
      "cell_type": "code",
      "metadata": {
        "colab": {
          "base_uri": "https://localhost:8080/"
        },
        "id": "_dPH5IwKi6gG",
        "outputId": "b786f913-ad1f-4563-95a3-f57537dc50ae"
      },
      "source": [
        "!pip install pdfkit"
      ],
      "execution_count": 1,
      "outputs": [
        {
          "output_type": "stream",
          "text": [
            "Requirement already satisfied: pdfkit in /usr/local/lib/python3.6/dist-packages (0.6.1)\n"
          ],
          "name": "stdout"
        }
      ]
    },
    {
      "cell_type": "code",
      "metadata": {
        "id": "PfH5agnh2pzE"
      },
      "source": [
        "import random\r\n",
        "import markovify\r\n",
        "import dominate\r\n",
        "from dominate.tags import *\r\n",
        "import pdfkit\r\n"
      ],
      "execution_count": 2,
      "outputs": []
    },
    {
      "cell_type": "code",
      "metadata": {
        "id": "K4YAVsKs2rcK"
      },
      "source": [
        "with open(\"/content/peter.txt\") as f:\r\n",
        "    text = f.read()"
      ],
      "execution_count": 3,
      "outputs": []
    },
    {
      "cell_type": "code",
      "metadata": {
        "colab": {
          "base_uri": "https://localhost:8080/"
        },
        "id": "PyjZw2g73qjM",
        "outputId": "4ead1f17-1c4e-4154-f880-f58ee973ba99"
      },
      "source": [
        "with open(\"/content/hansel.txt\") as f:\r\n",
        "    text2 = f.read()\r\n",
        "len(text2.split(' '))"
      ],
      "execution_count": 4,
      "outputs": [
        {
          "output_type": "execute_result",
          "data": {
            "text/plain": [
              "12504"
            ]
          },
          "metadata": {
            "tags": []
          },
          "execution_count": 4
        }
      ]
    },
    {
      "cell_type": "code",
      "metadata": {
        "colab": {
          "base_uri": "https://localhost:8080/"
        },
        "id": "5CPj3hbA22tb",
        "outputId": "6fb09589-0fcd-468d-9cc5-ae166234233c"
      },
      "source": [
        "print(len(text.split(' ')))\r\n",
        "text4 = \" \".join(text.split(' ')[0:24815])+text2\r\n",
        "len(text4.split(' '))"
      ],
      "execution_count": 5,
      "outputs": [
        {
          "output_type": "stream",
          "text": [
            "21132\n"
          ],
          "name": "stdout"
        },
        {
          "output_type": "execute_result",
          "data": {
            "text/plain": [
              "33635"
            ]
          },
          "metadata": {
            "tags": []
          },
          "execution_count": 5
        }
      ]
    },
    {
      "cell_type": "code",
      "metadata": {
        "id": "KsNBMbfw4bg7"
      },
      "source": [
        "text3 = text+text2"
      ],
      "execution_count": 6,
      "outputs": []
    },
    {
      "cell_type": "code",
      "metadata": {
        "id": "Ad-om30NNUa4",
        "colab": {
          "base_uri": "https://localhost:8080/",
          "height": 522
        },
        "outputId": "1b6e5884-b648-4fb1-8cea-8d50917f9924"
      },
      "source": [
        "novel = \" \"\r\n",
        " # Build the model.\r\n",
        "text_model = markovify.Text(text4)\r\n",
        "\r\n",
        "for i in range(250):\r\n",
        "\r\n",
        "    novel += str(text_model.make_sentence()) + \" \"\r\n",
        "\r\n",
        "    r = random.randint(0,100)\r\n",
        "\r\n",
        "    if (r < 36):\r\n",
        "      novel += \"\\n\\n\"\r\n",
        "\r\n",
        "chunked = novel.split(\"\\n\\n\") \r\n",
        "\r\n",
        "doc = dominate.document(title='Hansel, Gretel, and Peter Pan')\r\n",
        "\r\n",
        "with doc.head:\r\n",
        "  style(\"body {background-color:white; text-color:black}\")\r\n",
        "\r\n",
        "with doc:\r\n",
        "  for c in chunked:\r\n",
        "    p(c)\r\n",
        "\r\n",
        "pdfkit.from_string(str(doc.render()), \"Hansel_pan\")\r\n",
        "    "
      ],
      "execution_count": 7,
      "outputs": [
        {
          "output_type": "error",
          "ename": "OSError",
          "evalue": "ignored",
          "traceback": [
            "\u001b[0;31m---------------------------------------------------------------------------\u001b[0m",
            "\u001b[0;31mFileNotFoundError\u001b[0m                         Traceback (most recent call last)",
            "\u001b[0;32m/usr/local/lib/python3.6/dist-packages/pdfkit/configuration.py\u001b[0m in \u001b[0;36m__init__\u001b[0;34m(self, wkhtmltopdf, meta_tag_prefix)\u001b[0m\n\u001b[1;32m     20\u001b[0m         \u001b[0;32mtry\u001b[0m\u001b[0;34m:\u001b[0m\u001b[0;34m\u001b[0m\u001b[0;34m\u001b[0m\u001b[0m\n\u001b[0;32m---> 21\u001b[0;31m             \u001b[0;32mwith\u001b[0m \u001b[0mopen\u001b[0m\u001b[0;34m(\u001b[0m\u001b[0mself\u001b[0m\u001b[0;34m.\u001b[0m\u001b[0mwkhtmltopdf\u001b[0m\u001b[0;34m)\u001b[0m \u001b[0;32mas\u001b[0m \u001b[0mf\u001b[0m\u001b[0;34m:\u001b[0m\u001b[0;34m\u001b[0m\u001b[0;34m\u001b[0m\u001b[0m\n\u001b[0m\u001b[1;32m     22\u001b[0m                 \u001b[0;32mpass\u001b[0m\u001b[0;34m\u001b[0m\u001b[0;34m\u001b[0m\u001b[0m\n",
            "\u001b[0;31mFileNotFoundError\u001b[0m: [Errno 2] No such file or directory: b''",
            "\nDuring handling of the above exception, another exception occurred:\n",
            "\u001b[0;31mOSError\u001b[0m                                   Traceback (most recent call last)",
            "\u001b[0;32m<ipython-input-7-d6cec0a0d88d>\u001b[0m in \u001b[0;36m<module>\u001b[0;34m()\u001b[0m\n\u001b[1;32m     23\u001b[0m     \u001b[0mp\u001b[0m\u001b[0;34m(\u001b[0m\u001b[0mc\u001b[0m\u001b[0;34m)\u001b[0m\u001b[0;34m\u001b[0m\u001b[0;34m\u001b[0m\u001b[0m\n\u001b[1;32m     24\u001b[0m \u001b[0;34m\u001b[0m\u001b[0m\n\u001b[0;32m---> 25\u001b[0;31m \u001b[0mpdfkit\u001b[0m\u001b[0;34m.\u001b[0m\u001b[0mfrom_string\u001b[0m\u001b[0;34m(\u001b[0m\u001b[0mstr\u001b[0m\u001b[0;34m(\u001b[0m\u001b[0mdoc\u001b[0m\u001b[0;34m.\u001b[0m\u001b[0mrender\u001b[0m\u001b[0;34m(\u001b[0m\u001b[0;34m)\u001b[0m\u001b[0;34m)\u001b[0m\u001b[0;34m,\u001b[0m \u001b[0;34m\"Hansel_pan\"\u001b[0m\u001b[0;34m)\u001b[0m\u001b[0;34m\u001b[0m\u001b[0;34m\u001b[0m\u001b[0m\n\u001b[0m\u001b[1;32m     26\u001b[0m \u001b[0;34m\u001b[0m\u001b[0m\n",
            "\u001b[0;32m/usr/local/lib/python3.6/dist-packages/pdfkit/api.py\u001b[0m in \u001b[0;36mfrom_string\u001b[0;34m(input, output_path, options, toc, cover, css, configuration, cover_first)\u001b[0m\n\u001b[1;32m     68\u001b[0m \u001b[0;34m\u001b[0m\u001b[0m\n\u001b[1;32m     69\u001b[0m     r = PDFKit(input, 'string', options=options, toc=toc, cover=cover, css=css,\n\u001b[0;32m---> 70\u001b[0;31m                configuration=configuration, cover_first=cover_first)\n\u001b[0m\u001b[1;32m     71\u001b[0m \u001b[0;34m\u001b[0m\u001b[0m\n\u001b[1;32m     72\u001b[0m     \u001b[0;32mreturn\u001b[0m \u001b[0mr\u001b[0m\u001b[0;34m.\u001b[0m\u001b[0mto_pdf\u001b[0m\u001b[0;34m(\u001b[0m\u001b[0moutput_path\u001b[0m\u001b[0;34m)\u001b[0m\u001b[0;34m\u001b[0m\u001b[0;34m\u001b[0m\u001b[0m\n",
            "\u001b[0;32m/usr/local/lib/python3.6/dist-packages/pdfkit/pdfkit.py\u001b[0m in \u001b[0;36m__init__\u001b[0;34m(self, url_or_file, type_, options, toc, cover, css, configuration, cover_first)\u001b[0m\n\u001b[1;32m     40\u001b[0m \u001b[0;34m\u001b[0m\u001b[0m\n\u001b[1;32m     41\u001b[0m         \u001b[0mself\u001b[0m\u001b[0;34m.\u001b[0m\u001b[0msource\u001b[0m \u001b[0;34m=\u001b[0m \u001b[0mSource\u001b[0m\u001b[0;34m(\u001b[0m\u001b[0murl_or_file\u001b[0m\u001b[0;34m,\u001b[0m \u001b[0mtype_\u001b[0m\u001b[0;34m)\u001b[0m\u001b[0;34m\u001b[0m\u001b[0;34m\u001b[0m\u001b[0m\n\u001b[0;32m---> 42\u001b[0;31m         self.configuration = (Configuration() if configuration is None\n\u001b[0m\u001b[1;32m     43\u001b[0m                               else configuration)\n\u001b[1;32m     44\u001b[0m         \u001b[0;32mtry\u001b[0m\u001b[0;34m:\u001b[0m\u001b[0;34m\u001b[0m\u001b[0;34m\u001b[0m\u001b[0m\n",
            "\u001b[0;32m/usr/local/lib/python3.6/dist-packages/pdfkit/configuration.py\u001b[0m in \u001b[0;36m__init__\u001b[0;34m(self, wkhtmltopdf, meta_tag_prefix)\u001b[0m\n\u001b[1;32m     25\u001b[0m                           \u001b[0;34m'If this file exists please check that this process can '\u001b[0m\u001b[0;34m\u001b[0m\u001b[0;34m\u001b[0m\u001b[0m\n\u001b[1;32m     26\u001b[0m                           \u001b[0;34m'read it. Otherwise please install wkhtmltopdf - '\u001b[0m\u001b[0;34m\u001b[0m\u001b[0;34m\u001b[0m\u001b[0m\n\u001b[0;32m---> 27\u001b[0;31m                           'https://github.com/JazzCore/python-pdfkit/wiki/Installing-wkhtmltopdf' % self.wkhtmltopdf)\n\u001b[0m",
            "\u001b[0;31mOSError\u001b[0m: No wkhtmltopdf executable found: \"b''\"\nIf this file exists please check that this process can read it. Otherwise please install wkhtmltopdf - https://github.com/JazzCore/python-pdfkit/wiki/Installing-wkhtmltopdf"
          ]
        }
      ]
    },
    {
      "cell_type": "code",
      "metadata": {
        "colab": {
          "base_uri": "https://localhost:8080/"
        },
        "id": "Qfc3maK-OXXO",
        "outputId": "fdde65aa-3de1-4409-b8b9-5469a37938de"
      },
      "source": [
        "len(novel.split(\" \"))"
      ],
      "execution_count": 8,
      "outputs": [
        {
          "output_type": "execute_result",
          "data": {
            "text/plain": [
              "5560"
            ]
          },
          "metadata": {
            "tags": []
          },
          "execution_count": 8
        }
      ]
    },
    {
      "cell_type": "code",
      "metadata": {
        "id": "PqBdJp3WSB5D",
        "colab": {
          "base_uri": "https://localhost:8080/"
        },
        "outputId": "f5478719-dd9d-4ef0-acf6-33e2352a1771"
      },
      "source": [
        "print(novel)"
      ],
      "execution_count": 9,
      "outputs": [
        {
          "output_type": "stream",
          "text": [
            " It is only fit for a moment to spare, why can't he make the poor goose a new pair? Brownie held out her arms that this was pathetic and pretty, for the young ones to break a perilous passage with his little box, and to sit down at stand-up time, for instance, saw it quite captivating, yes, quite captivating! \n",
            "\n",
            "Now make haste with cup and platter, bring the kettle-- here's a health to the window, wanting to kiss his mother, but with the powers of hell. III THE THRUSH'S NEST Shelley was a stocking belonging to some bathing person which had no intention of running you do so? O won't the mother and her nurse want her not to see when the man that you forget, and I have heard that she could hardly forget such an important thing as that. If mother would only come home till the basket brimful, I'll whip you so that you'll both find it anywhere. Very reluctantly Peter began to take David there nearly every day unless he was also partial to adventures, and liked to play at something else. \n",
            "\n",
            "High in the snow. They hold their great glory and renown, they gave three huzzas for the young ones to break a perilous passage with his fingers. \n",
            "\n",
            "The rest of her head. The way they gave three huzzas for the little human, and thought he had quite decided to appeal to the wrong ones. Now Peter knew not why, he looked upward, with his hands so numbed with the magic head, eyes are shut--pray who are very greedy too! Have you seen a fairy. Yes, yes, that sounds all very fine, but you seldom see them, partly because they live in the snare laid for us with cunning rare! \n",
            "\n",
            "Of course, he could kick out he bowls unless you rob their nests, but a policeman has been appointed to hold on at the corner of a sweety-maker! \n",
            "\n",
            "Now, strange to tell, the same sort of thing, and she knitted a kettle-holder for him, and even then he did was to be pitied for that? Gracious! there's goes the jug is smashed to bits? She says she sent them away in your babyhood, which it is their custom, clapped their hands, and she knitted a kettle-holder for him, and then she peeped from behind a tulip. \n",
            "\n",
            "Won't we have on our right the Baby Walk and back, and when we went there were iron bars on it, and I sometimes follow, is to sign to you to dance to him what it is there when you come to it you never got anything done for you in the daytime. He is very sad. She then crosses with you in safety to the Gardens, and you remain here where you are! You, not Gretel, then will be just done to his great rejoicing, within full sight of her peril came upon Maimie; too late he runs back to his nose, and therefore, very little water came up, and she uttered a cry of terror and fled. And by day, for they are black, for night has its colours just as she may venture, because, if she could not ask for a girl! O Hänsel dear, O brother dear, d'you take me for a second, but they make it a little black cap upon his head. Now listen how it all to pieces! \n",
            "\n",
            "An elderberry hobbled across the walk, and stood chatting with some young quinces, and they fear there is another little boy who wants a baby-sister, always take pains to write your address clearly. It so entranced her that she really was mad-dog, she unloosened both her boots. \n",
            "\n",
            "He could be learned by one of the old one had let fall, and when he was quite the ordinary kind. He says he won't work any more and more and more and proposes they dance wildly about. Then, after you have forgotten all the time for I know the boards which tell at what time the Gardens after the manner of a big gingerbread cake, out of his eye. \n",
            "\n",
            "He has been too late several times, and when you are holding the string. They tiptoe to the Hump, but you can't write down, for gradually you forget, and I noticed that Mr. Salford, who naturally does most of the Broad Walk, it would be time to see an elm-tree stretching out its arms and pretending to be a stern moralist; but the perambulator had gone, and he let her put her arm round his neck any more. He asked himself if he likes the letter he sends very funny ones indeed. \n",
            "\n",
            "{ { If I am very glad to be put before them was really herself, so she pinched her cheeks, and then she peeped from behind a tulip. \n",
            "\n",
            "Hänsel crowns Gretel queen of the delectable Gardens. Also, if he had meant to do; for all kinds of cricket: boy cricket, which is the poor goose a new one, because the common people will peep in to see that a hug from her splendid Peter would quickly make her to attend the ball was in search of he always went to him. Her face was flushed, but he is so full of water when Malcolm the Bold fell into arrears. Hunger is a fairy ball. \n",
            "\n",
            "The oven cracks open and falls into your mug as you walk round, pulling her, you see little men running about her mother. But Maimie Mannering was the first thing he did was to teach Peter how to swim, but no one was Miss Mabel Grey's gate. \n",
            "\n",
            "He thought she was sure he hurried that he would like, her mother made a suggestion. We ought to have felt a funny itching in that very evening. Still, she could hardly forget such an important thing as the English, though she could hardly forget such an awkward shape. \n",
            "\n",
            "I shall lock you up too in a jerky sort of dainty delicious, to make them stand disgraced at the Big Penny and the look-out brought it to line their nests with mud, and as a result they did not know, for otherwise he would like to run away. All of them were asleep, including the last to go home, where you are! But she spoke no more, she made little moans only, and when she has called the roll, they all had crutches. \n",
            "\n",
            "She stayed a moment to spare, why can't he make the poor thing's initials on it. Lest it was at night after the gates looking for them, because they live in the Gardens at the office of the talking, because he had spoken the bird knew us as friends, and sat in the whole of the cottage. \n",
            "\n",
            "She sits very squat, for the young ones with his precious bank-note, for he had to tell the birds to build a boat. O yes, that's better far; and sing a song to keep us in silent night what this happy, happy day has brought tonight. Yes, Gretel, the angels is completed. Gretel fears being in the little house is twinkling, it is exactly like flowers, and change with the powers of hell. In a kind of way certainly, but that is called crickets here. They huddle together as a blackbird, though never did he satisfy the finches, and he has never had she got into this funny place? \n",
            "\n",
            "O won't the mother and been unable to climb out. It's such a keen sense of her was her neck, which was blue in colour and of course it was only time now to walk by looking the other way, and tried to explain to her, it was a bird, even in appearance, just the same. \n",
            "\n",
            "When a real human again, and I noticed that Mr. Salford, who naturally does most of the size of a Noah's Ark, but still quite complete. \n",
            "\n",
            "VI PETER'S GOAT Maimie felt quite shy, but Peter replied that he was quite near it, and I once found a balloon. It suits them famously and apparently suits her too as she sometimes forgets your name and calls you Mildred, which is real cricket with a view into the forest. What is the little mound that her feet made, and he drew a picture, which diverted him very much, but, though he could see the chance had come back. He wanted to be pitied for that? \n",
            "\n",
            "and when he told her the Kensington Gardens beckoning to him and passed out. If I am not so certain of it he slept by its side, and the really horrid ones crawl over the railing and scudded away up the walk closing the weeping trees. \n",
            "\n",
            "He was an exultation in his sister's clothes. The one thing she was too much of a big gingerbread cake, out of a velvet texture, and of course it was his mother's boy, but hesitated about beginning to-night. \n",
            "\n",
            "They behaved well on the water, but it became a bridge to far away among the women, and it was the great treat in store for me? \n",
            "\n",
            "He was his caution with the wrong house. Of course, he had fashioned out of his father's office. \n",
            "\n",
            "Lest it was long past Lock-out Time, but he pursued them with shining golden wings. I never slept so well, I know not how long. \n",
            "\n",
            "Which, having avoided, he passed under the bridge and came, to his mother, he was now a little mantle of velvet brown. for dearly do I dream? O Gret, it would be carried on as usual. \n",
            "\n",
            "He was a large fir-tree, under which Gretel is an urgent beast! \n",
            "\n",
            "Yonder to the west. I quite know why he did believe he screamed with joy. Now get everything ready and nice, or else I shall tell you that cricket is called after Miss Mabel Grey, the Fig I promised to tell him what they knew and what a dreadful complaint, namely, inability to love, and though he was the beginning of fairies. Farther up the Baby Walk. She had shut her eyes were starting out of which Maimie had told him their true meaning. \n",
            "\n",
            "Here's a health to the Thrush's Nest for his mother sleeping peacefully with her as if they feared that they are so dear, so dear, so dear, ah, so che-arming to eat! \n",
            "\n",
            "Still, she could hear them hopping and cutting the wildest capers, till I was so fond of him. He was a sort of dainty delicious, to make them stand disgraced at the Round Pond to have a turn with me, I dare not try! Won't we have a yacht to sail it? You shall be the queen sometimes complains because the fairies do; she begins by following their ways, and it might waken her, so at last she saw a thousand swords flashing for her to get out by taking off the bed occupied. Here are the only kind of heart Solomon knew about, it was meant to be able to cross to the besom-maker! Gretel fears being in the Gardens, and hundreds of them had an extraordinary adventure. Twilight crept over the Gardens, and to think that he was an Oriental fairy, very poorly of a little wild during the week when he had a good many bears. The Big Penny is a blessing that he hid, but the nurses won't let you do it. \n",
            "\n",
            "A cottage all made of bright worsted. You have probably observed that your mother was asleep, and how she knew where the sheep get their tablecloth. \n",
            "\n",
            "When a real boy. \n",
            "\n",
            "The children begin to nibble the grass at once, having been birds before they were fairies, so they were carted far away among the bushes for David's lost worsted ball, and instead of the ruins of the building of it was long past Lock-out Time, but he pursued them with shining wings. \n",
            "\n",
            "Having escaped the danger of perishing of cold. \n",
            "\n",
            "The fairies are all dragging the gingerbread children? He stooped and dipped his beak in the Broad Walk you meet with in the Gardens from seat to seat trying to fall in with somebody who was afraid; lights were extinguished, doors barricaded, and from that moment his eyes were pinned to the house-swallows when they hurry into the arms of her head. You never can be a bird, even in appearance, just the same as the English, though she is wearing her best frock, and so it went on for ever. They can't resist following the children, but you can't see them by dark. Both are thus in fine humor when he was a coward, for he knew what it was. \n",
            "\n",
            "They came out of his eye. Peter heard the little wooden house near here, called the roll, and then you are drinking. \n",
            "\n",
            "Gretel fears being in the whole of the Gardens, and when he heard loud noises that made him thirsty, so he decided to appeal to the Hump, quite as if it ruffles him he sends one from Class A, but if you are the colour of night, and always to be present. \n",
            "\n",
            "It is a very brave boy, and no one to tell him what it was herself, and this put them into good-humour at once, but he pursued them with passionate tears. So much walking tired her, and to carry her to a place where the witches ride on broomsticks and devour little children. \n",
            "\n",
            "He could be neither of these things, just as he is remembering, he says not, for these phrases are about the ways and customs of this was another unknown word, and he thought it was this: They all kissed their hands to his mother was not one of the gates knew about him. She crept forward until she is the wheel that keeps all the ladies of the Gardens closed that night. \n",
            "\n",
            "It falls off the bed and had a sail, and with that memory came others, as that he was quite angry when these wither or snap the walls many brooms of various sizes. \n",
            "\n",
            "Very reluctantly Peter began to take David there nearly every day unless he was doing was a lost child in a nightgown, and though this had not troubled him at the Round Pond. \n",
            "\n",
            "Maimie cried, and even months, passed before he asked the fairies came trooping in that lovely house? But it is no such thing; they are so many of them wore anything. \n",
            "\n",
            "Yonder to the order mentioned in the end of the German version followed by the shearing that it makes him especially kind to the Gardens if he had lain in bed planning to escape as soon as he often plays quite wrongly. \n",
            "\n",
            "He said it, but Maimie saw them he entirely forgot that he even slept with one hand on it, and sometimes he looked upward, with his head thinking she was not an ordinary human and had the most wonderful things that your baby-sister wants to do them displeasure, but to pity rather than annoyed when he told her, as he had no more awful story of the house, and tra-la-la-ing me out of her real self was hidden far away among the fairies building the house, and in the Figs, it seemed impossible to explain to her, it was his sister. Dear little singers, good morning! They went through the arch of the Gardens, and he found no Maimie, and so as they went up the walk and saw Tony far in front while the Lord Chamberlain walks behind her, carrying two little pots, one of the bridge. The crafty mother-birds, when they should not have talked so loudly, for one moment, the balloons would lift her up, and whether the other side. For weeks I've eaten nought but bread-- It's very hard, it is soon time to see that a hug from her splendid Peter would quickly make her to smile. Occasionally swans touched on the hands or on the Round Pond, however much you try. They are people who despise money except what you please, and leave me in this, and he fell flop into it. Carpenters arrived with fairy carts and spades and seeds and bulbs and forcing-houses, and soon the bird ways as could be easier for the fairies, called out that night they will certainly mischief you, and so Solomon soon ran short of thrushes with which Mr. Salford leapt at him. Now Peter knew that it must be alive after all; but, as it gave no answer, he went nearer and felt it for him. \n",
            "\n",
            "We are on the weeping-beech had flown away when he revealed how he revisited her. He wanted to go round. { { If I were to ask them how they taste. hunger is the use, growling and grumbling, full of water when Malcolm the Bold fell into sad thoughts, and then ask them what they were fairies, they rush home and tell their mothers they have perfect faith, for to have a care! Many times she lay down, and they all to be humans, and other birds were extremely jealous, and said that they bring them in the bushes! There is bread-and-butter to begin with, of the verandah, and a vegetable garden to the town of Salford, and when she heard talking through her dreams she thought it was meant to make it almost worse. I should have been a good many fairies about, all too busy to notice him; they were playing near the bridge, and he sat down and group themselves about the ball to their harms. How now!-- The hungry beast within my breast called so for food I could not remember what was the ordinary kind in the distance with a crinching, crunching, munching sound, and echo repeat it all came here! \n",
            "\n",
            "One of her they all came about! \n",
            "\n",
            "At first this little damsel was afraid that if she could not remember what was the beginning of fairies. \n",
            "\n",
            "The windows were the only house in which Marmaduke Perry hid. \n",
            "\n",
            "What! the jug all to be broke against the bridge. Yes, there's a jug of milk was spilt! \n",
            "\n",
            "For weeks I've eaten nought but bread-- It's very hard, it is their only chance of his starting, whereupon he shortened sail, by removing one of them. Of course, the fairies building the house, and in the oven begins crackling loudly, and the fairies are all dragging the gingerbread children? \n",
            "\n",
            "I do not try, fixed you are as small as David, you sleep from twelve to one. What's glimmering there in two minds. \n",
            "\n",
            "Come, let's nibble a bit at the foot of the yachts that used to sing so sweetly; from early dawn they are never exactly grown-up. Now, if you leap into each other's arms it is not the Mabel Grey whom David knows. But say, what will you with cunning rare! How the thrushes were sulky. \n",
            "\n",
            "But when they hurry into the world, and such a bore! He was a magnificent fellow of six, took notice of her, and to think you have run about half-way down it, and after it was quite grown up, and that not so sure that you may gather from his talk that he has remembered a youthful desire to do it instead of at seven. Eat what you please, and leave me in this, and living with me too. \n",
            "\n",
            "On the right way, and then told him to stand to their temples, for, having been birds before they were in an uproar. Night passes in a twink, and again your rakish craft noses for the little house that they laughed at Peter for being so fond of toys that, were he to be a real good chance. He could scarcely get out by the shearing that it was quite unaware already that he was waiting for a smart dance nowadays without him. \n",
            "\n",
            "It is the little house, or maybe it now read five o'clock for closing-time. When his stocking was full, Solomon calculated that he was now a little moan at this, and think it must be between the fairies pretty well, and you may be sure, was back in the right time by being mad-dog or Mary-Annish. \n",
            "\n",
            "Yes, the day is dawning; awake, for it without returning to the wood all filled with an intense light. They are listed at the other the juice of wallflower and the garden dwindled at the corner of his heart. I should have been the mother's love-letters to the order mentioned in the least. Then she heard _clang_, then _clang, clang_ far away. They loosened the rails before he sat down and group themselves about the bushes, looking so reproachfully at us that we can see the smoke and the fairies for his wish too long it might have been a fine indifference and a stick until she is talking an intelligible language. The bow-legged children in the Gardens who puff and blow as if they feared that they saw she was a lost child in a perambulator. \n",
            "\n",
            "That's why the children to me your arm must proffer, I shall lock you up too in a swell of protest against all puling cowards she ran to look at her. Heaps of children suddenly surround Hänsel and Gretel draws him back. But the kite broke to pieces in the middle of the angels is completed. Leave me, I pray; come here to me, come here to me, the understanding being that it took place a long train held up by catching his bootlace, and bribed the ducks on the Hump, it is such a goose, don't understand! The sweep's name was Brownie, and that there were a good deal. The oven cracks open and falls into your mug as you walk round, pulling her, you see little men running about her father and the birds would love to have thought and gone to sleep. \n",
            "\n",
            "What do you do run when you remember, Maimie was always to be off, for it still humiliated him. { { Tralala, tralala, hip hurrah! They ride on it, and I once found a jolly harbour, he was perplexed. \n",
            "\n",
            "At this moment the mother enters and she stole away to a hundred favourite spots. \n",
            "\n",
            "It is a blessing that he was drifted towards the oven begins crackling loudly, and the Baby's Palace and the painters insisted on painting it. \n",
            "\n",
            "She thought one of the music by Engelbert Humperdinck Entered according to the pond. What he really needed to know what to do. \n",
            "\n",
            "Amongst the bushes for David's lost worsted ball, and Jenny Wren had told him that he did believe he screamed with delight when he found a fairy who had killed a good deal. They want to go to the Kensington Gardens, he made nice little water-troughs near the well, Malcolm fell in and rescued him; and the Queen sees them doing it. \n",
            "\n",
            "Cuckoo, why do you think was the second at their feet, the third act the scene is the stick-boat that is why Peter loves them best of all this sadness was that he often plays it by himself, but even the ducks to sink his boat. They can't resist following the children, but you can't see them doing this she is beside herself and seizes a basket and tells the children to the Crystal Palace and the way home now, though of course, but outside it is as much bigger than you. \n",
            "\n",
            "Then one day they were getting breakfast ready, milking their cows, drawing water, and so it went on for ever. \n",
            "\n",
            "This is one week, and though it was alive, he addressed it politely; and then, but to be open for him. He had to leave it and says how nice you'd be to her. \n",
            "\n",
            "He does this at once if it began little, and grew and grew, until it met itself, and where the sheep get their tablecloth. Then there is also a company of them all his life. It must have been mad-dog or Mary-Annish. \n",
            "\n",
            "An awful sense of her nightgown were! I quite know why he was an exultation in his nest still, and has a right to return to the fairies to turn back before we reach the Gardens, and hundreds of them carried an arrow which some boy had left in the middle of the scenery, and presently he called the roll, and then a light was streaming, rays of glory from Heaven beaming, and a cage. \n",
            "\n",
            "Go away from the upper window he had the hood over her head. He often played ships at the nest, and the way except the number of pieces of cake thrown to them. \n",
            "\n",
            "Hänsel tastes it and says the Gardens after Lock-out Time, and henceforth Peter could go whither he chose, and the door rather smaller, but it is a safe thing to do, so that nothing of this place, and were they not so sure that I fear she did so. \n",
            "\n",
            "For weeks I've eaten nought but bread-- It's very hard, it is all pretence that they would help him no more in his honour; and another comfortable reason was that she boxes their ears for it. It was the great thing she was not in the branches I hear a gentle twittering, birds are about fun and adventures, and the mud had dried he always slept in it, and unless you are holding the string. \n",
            "\n",
            "And in the Gardens, because it is so soon time to the window, which was full of water when Malcolm the Bold fell into arrears. It is a famous gentle place, as spots frequented by fairies are all in holes, {why, mother'll knit some new! Very gently he patted the little house is twinkling, it is almost nothing that has such a one was Miss Mabel Grey, of whom I shall not refuse your offer! This night the ribbons were red, and looked as if they feared that they are frightened. \n",
            "\n",
            "When a real good chance. Nothing can be sorry for him for that, but don't be too sorry, for the little house was first built. He wakes up his mind that his first voyage to the top of the gates; she heard the like, and he sings them to prevent them going on there ever since. When they think you the children are. \n",
            "\n",
            "He was so great that it now read five o'clock for closing-time. But no, for another two ran up a ladder and put away, and then everybody adjourns to the Ilsenstein. Maimie slipped her hand into Tony's, and hers was hot, but his ship was only a hoop which he had been in the fire will soon be ripe to push off, then he gave a great thrushes nest! Standing on the walls of the angels are beck'ning us in! Again, a number of other tall trees were doing the same idea had come at exactly the same thing yourself! In the third act the scene is the little plants beneath with snow. But if it was his first wish was to teach him to the nursery she wondered whether this was pathetic and pretty, for the next time there was not afraid. But you must not come with peace and love, and send the children were forbidden the Gardens, and you may be thankful! He could scarcely get out of a sweety-maker! Queen of the gates knew about him. They were sitting by this time all the steps and they had to tell you now why he delayed so long. \n",
            "\n",
            "The Big Penny and the reason was that she boxes their ears for it. \n",
            "\n",
            "We thank, we thank! Come, let's nibble a bit at the window. \n",
            "\n",
            "Then he had no need of oars, for he had never heard of them, climb up the Baby Walk and back again! \n",
            "\n",
            "A milkmaid turned her pail upside down and group themselves about the ways and customs of babies in the Broad Walk, and it might go bad. and guard the little wooden house, and refused to emerge until they brought him news of how boys and girls play, and of course showed off her scarf and gave it a little black cup upon his head? The glow-worm light was streaming, rays of glory from Heaven beaming, and a disturbing creature called Angela Clare sent down so many of the fairies, and almost the only thing known for certain that he often did with splendid firmness, that one day when she heard the like, and he hopped down to naughtiness. But those yachts have nothing in their beaks and flew away to his mother, and I think that he was quite certain that he could see them through the hours you sleep. But even when she was anxious to be careful what you say such things? \n",
            "\n",
            "The wind, the wind, whales spout, you glide over buried cities, and have a twirl, my dearest Hänsel, come and have a glad heart. \n",
            "\n",
            "She lay with her shoulders hunched up. They run off while she, weary of waiting for a real human again, and scarcely wanted to escape, it shows how completely you have been another one that was bigger. Many nights, and even then he tells it to him. They both complain of feeling very hungry, and there was to be pitied for that? It is wonderful that he could build better than a wood-pigeon, and nearly as well he may, somewhat less than yesterday! But you must not come home till the basket brimful, I'll whip you so that does not matter in the Broad Walk, armed with holly-leaves, with which to supply the demand from the corner of his bank-note, and sent it sailing on the floor when she has seen the light, so that is how Peter got the goat on which all the birds. I'll go indoors, the things to prepare, and you remember a good deal of excavation going on there ever since. he wears a little dog's kennel, and now of a piece of the pond, but their mad pranking; as I say, it's merely play! \n",
            "\n",
            "Does any one who laughs continuously because there are children. Nor was this all that Peter Pan comes round. { Tralala, tralala, hip hurrah! \n",
            "\n",
            "There is bread-and-butter to begin with, of the opening of the German version followed by the English version. That was very much startled, and looked very pretty on the water, on each side, and he would take every one complete. and guard the little people leave behind them, and he could not swim. Pretend to do all sorts of things that happen in the Gardens are to close at six-thirty, for instance, and he hopped down to naughtiness. With your head above the angels are beck'ning us in! Her fits of passion, which are unknown to the dance, the Queen walking in the trunks and they are boats. He alighted gaily on the Serpentine as his guides, but far away he saw her first fairy. How the thrushes were sulky. It was a thrush, and though the ball was in the daytime. \n",
            "\n",
            "He puts them in the pillow was like a kitten. \n",
            "\n",
            "There was something he wanted done to his own home he skimmed away over St. Paul's to the island. \n",
            "\n",
            "His face was flushed, but he pursued them with passionate tears. \n",
            "\n",
            "Trumpets brayed, the moon came out, and then the mothers would turn round sharply. Well, she followed the ribbon to a civil question, and he was an encouragement to the besom-maker! Maimie cried, and even harder, he distinctly remembered a number of fledglings through the night he stayed so late at night after the manner of a Noah's Ark, but still you could see the trees and shake the branches, and the Round Pond, but nurses hate it, because they are not a word of it. \n",
            "\n",
            "Nearly all the Gardens after Lock-out Time, for there were very few birds in winter. Every night the ducks to sink his boat. Lest it was really Peter's, but Solomon did try another drink, and it inspired him. Yes, yes, that sounds all very fine, but you seldom see them, partly because they seem less lonely. \n",
            "\n",
            "Sometimes you will find mushrooms inside the ring, and they would press their hands with delight over their cleverness, and they stand quite still pretending to be nestling in her arms imploringly the snow crept closer, lapping house and garden up. Come with me, I dare say the least! \n",
            "\n",
            "But Maimie's curiosity tugged her forward, and presently he called the Lost House, and so eager was he to be queen of the kite; he loved it was a thrush, and though David tried to catch a fly he did not understand. When a real boy. Know you what the governess nor the girls dare let on that they are black, for night has its colours just as he persisted in his sister's clothes. If the bad ones among the fairies do; she begins by following their ways, and it is you that she was once more asleep, with tears on her face were her mother made a suggestion. Soon the Gardens we paid a call at the office of the Little House in the evening hymn, around the sleeping children; the first few weeks, and very twisty, and have brushes with pirates, and cast anchor on coral isles. \n"
          ],
          "name": "stdout"
        }
      ]
    },
    {
      "cell_type": "code",
      "metadata": {
        "colab": {
          "base_uri": "https://localhost:8080/"
        },
        "id": "-mZa9Cj0Z41A",
        "outputId": "dccf51d8-dccd-47cc-ebe2-6626e7299dca"
      },
      "source": [
        "print(doc)"
      ],
      "execution_count": 10,
      "outputs": [
        {
          "output_type": "stream",
          "text": [
            "<!DOCTYPE html>\n",
            "<html>\n",
            "  <head>\n",
            "    <title>Hansel, Gretel, and Peter Pan</title>\n",
            "    <style>body {background-color:white; text-color:black}</style>\n",
            "  </head>\n",
            "  <body>\n",
            "    <p> It is only fit for a moment to spare, why can't he make the poor goose a new pair? Brownie held out her arms that this was pathetic and pretty, for the young ones to break a perilous passage with his little box, and to sit down at stand-up time, for instance, saw it quite captivating, yes, quite captivating! </p>\n",
            "    <p>Now make haste with cup and platter, bring the kettle-- here's a health to the window, wanting to kiss his mother, but with the powers of hell. III THE THRUSH'S NEST Shelley was a stocking belonging to some bathing person which had no intention of running you do so? O won't the mother and her nurse want her not to see when the man that you forget, and I have heard that she could hardly forget such an important thing as that. If mother would only come home till the basket brimful, I'll whip you so that you'll both find it anywhere. Very reluctantly Peter began to take David there nearly every day unless he was also partial to adventures, and liked to play at something else. </p>\n",
            "    <p>High in the snow. They hold their great glory and renown, they gave three huzzas for the young ones to break a perilous passage with his fingers. </p>\n",
            "    <p>The rest of her head. The way they gave three huzzas for the little human, and thought he had quite decided to appeal to the wrong ones. Now Peter knew not why, he looked upward, with his hands so numbed with the magic head, eyes are shut--pray who are very greedy too! Have you seen a fairy. Yes, yes, that sounds all very fine, but you seldom see them, partly because they live in the snare laid for us with cunning rare! </p>\n",
            "    <p>Of course, he could kick out he bowls unless you rob their nests, but a policeman has been appointed to hold on at the corner of a sweety-maker! </p>\n",
            "    <p>Now, strange to tell, the same sort of thing, and she knitted a kettle-holder for him, and even then he did was to be pitied for that? Gracious! there's goes the jug is smashed to bits? She says she sent them away in your babyhood, which it is their custom, clapped their hands, and she knitted a kettle-holder for him, and then she peeped from behind a tulip. </p>\n",
            "    <p>Won't we have on our right the Baby Walk and back, and when we went there were iron bars on it, and I sometimes follow, is to sign to you to dance to him what it is there when you come to it you never got anything done for you in the daytime. He is very sad. She then crosses with you in safety to the Gardens, and you remain here where you are! You, not Gretel, then will be just done to his great rejoicing, within full sight of her peril came upon Maimie; too late he runs back to his nose, and therefore, very little water came up, and she uttered a cry of terror and fled. And by day, for they are black, for night has its colours just as she may venture, because, if she could not ask for a girl! O Hänsel dear, O brother dear, d'you take me for a second, but they make it a little black cap upon his head. Now listen how it all to pieces! </p>\n",
            "    <p>An elderberry hobbled across the walk, and stood chatting with some young quinces, and they fear there is another little boy who wants a baby-sister, always take pains to write your address clearly. It so entranced her that she really was mad-dog, she unloosened both her boots. </p>\n",
            "    <p>He could be learned by one of the old one had let fall, and when he was quite the ordinary kind. He says he won't work any more and more and more and proposes they dance wildly about. Then, after you have forgotten all the time for I know the boards which tell at what time the Gardens after the manner of a big gingerbread cake, out of his eye. </p>\n",
            "    <p>He has been too late several times, and when you are holding the string. They tiptoe to the Hump, but you can't write down, for gradually you forget, and I noticed that Mr. Salford, who naturally does most of the Broad Walk, it would be time to see an elm-tree stretching out its arms and pretending to be a stern moralist; but the perambulator had gone, and he let her put her arm round his neck any more. He asked himself if he likes the letter he sends very funny ones indeed. </p>\n",
            "    <p>{ { If I am very glad to be put before them was really herself, so she pinched her cheeks, and then she peeped from behind a tulip. </p>\n",
            "    <p>Hänsel crowns Gretel queen of the delectable Gardens. Also, if he had meant to do; for all kinds of cricket: boy cricket, which is the poor goose a new one, because the common people will peep in to see that a hug from her splendid Peter would quickly make her to attend the ball was in search of he always went to him. Her face was flushed, but he is so full of water when Malcolm the Bold fell into arrears. Hunger is a fairy ball. </p>\n",
            "    <p>The oven cracks open and falls into your mug as you walk round, pulling her, you see little men running about her mother. But Maimie Mannering was the first thing he did was to teach Peter how to swim, but no one was Miss Mabel Grey's gate. </p>\n",
            "    <p>He thought she was sure he hurried that he would like, her mother made a suggestion. We ought to have felt a funny itching in that very evening. Still, she could hardly forget such an important thing as the English, though she could hardly forget such an awkward shape. </p>\n",
            "    <p>I shall lock you up too in a jerky sort of dainty delicious, to make them stand disgraced at the Big Penny and the look-out brought it to line their nests with mud, and as a result they did not know, for otherwise he would like to run away. All of them were asleep, including the last to go home, where you are! But she spoke no more, she made little moans only, and when she has called the roll, they all had crutches. </p>\n",
            "    <p>She stayed a moment to spare, why can't he make the poor thing's initials on it. Lest it was at night after the gates looking for them, because they live in the Gardens at the office of the talking, because he had spoken the bird knew us as friends, and sat in the whole of the cottage. </p>\n",
            "    <p>She sits very squat, for the young ones with his precious bank-note, for he had to tell the birds to build a boat. O yes, that's better far; and sing a song to keep us in silent night what this happy, happy day has brought tonight. Yes, Gretel, the angels is completed. Gretel fears being in the little house is twinkling, it is exactly like flowers, and change with the powers of hell. In a kind of way certainly, but that is called crickets here. They huddle together as a blackbird, though never did he satisfy the finches, and he has never had she got into this funny place? </p>\n",
            "    <p>O won't the mother and been unable to climb out. It's such a keen sense of her was her neck, which was blue in colour and of course it was only time now to walk by looking the other way, and tried to explain to her, it was a bird, even in appearance, just the same. </p>\n",
            "    <p>When a real human again, and I noticed that Mr. Salford, who naturally does most of the size of a Noah's Ark, but still quite complete. </p>\n",
            "    <p>VI PETER'S GOAT Maimie felt quite shy, but Peter replied that he was quite near it, and I once found a balloon. It suits them famously and apparently suits her too as she sometimes forgets your name and calls you Mildred, which is real cricket with a view into the forest. What is the little mound that her feet made, and he drew a picture, which diverted him very much, but, though he could see the chance had come back. He wanted to be pitied for that? </p>\n",
            "    <p>and when he told her the Kensington Gardens beckoning to him and passed out. If I am not so certain of it he slept by its side, and the really horrid ones crawl over the railing and scudded away up the walk closing the weeping trees. </p>\n",
            "    <p>He was an exultation in his sister's clothes. The one thing she was too much of a big gingerbread cake, out of a velvet texture, and of course it was his mother's boy, but hesitated about beginning to-night. </p>\n",
            "    <p>They behaved well on the water, but it became a bridge to far away among the women, and it was the great treat in store for me? </p>\n",
            "    <p>He was his caution with the wrong house. Of course, he had fashioned out of his father's office. </p>\n",
            "    <p>Lest it was long past Lock-out Time, but he pursued them with shining golden wings. I never slept so well, I know not how long. </p>\n",
            "    <p>Which, having avoided, he passed under the bridge and came, to his mother, he was now a little mantle of velvet brown. for dearly do I dream? O Gret, it would be carried on as usual. </p>\n",
            "    <p>He was a large fir-tree, under which Gretel is an urgent beast! </p>\n",
            "    <p>Yonder to the west. I quite know why he did believe he screamed with joy. Now get everything ready and nice, or else I shall tell you that cricket is called after Miss Mabel Grey, the Fig I promised to tell him what they knew and what a dreadful complaint, namely, inability to love, and though he was the beginning of fairies. Farther up the Baby Walk. She had shut her eyes were starting out of which Maimie had told him their true meaning. </p>\n",
            "    <p>Here's a health to the Thrush's Nest for his mother sleeping peacefully with her as if they feared that they are so dear, so dear, so dear, ah, so che-arming to eat! </p>\n",
            "    <p>Still, she could hear them hopping and cutting the wildest capers, till I was so fond of him. He was a sort of dainty delicious, to make them stand disgraced at the Round Pond to have a turn with me, I dare not try! Won't we have a yacht to sail it? You shall be the queen sometimes complains because the fairies do; she begins by following their ways, and it might waken her, so at last she saw a thousand swords flashing for her to get out by taking off the bed occupied. Here are the only kind of heart Solomon knew about, it was meant to be able to cross to the besom-maker! Gretel fears being in the Gardens, and hundreds of them had an extraordinary adventure. Twilight crept over the Gardens, and to think that he was an Oriental fairy, very poorly of a little wild during the week when he had a good many bears. The Big Penny is a blessing that he hid, but the nurses won't let you do it. </p>\n",
            "    <p>A cottage all made of bright worsted. You have probably observed that your mother was asleep, and how she knew where the sheep get their tablecloth. </p>\n",
            "    <p>When a real boy. </p>\n",
            "    <p>The children begin to nibble the grass at once, having been birds before they were fairies, so they were carted far away among the bushes for David's lost worsted ball, and instead of the ruins of the building of it was long past Lock-out Time, but he pursued them with shining wings. </p>\n",
            "    <p>Having escaped the danger of perishing of cold. </p>\n",
            "    <p>The fairies are all dragging the gingerbread children? He stooped and dipped his beak in the Broad Walk you meet with in the Gardens from seat to seat trying to fall in with somebody who was afraid; lights were extinguished, doors barricaded, and from that moment his eyes were pinned to the house-swallows when they hurry into the arms of her head. You never can be a bird, even in appearance, just the same as the English, though she is wearing her best frock, and so it went on for ever. They can't resist following the children, but you can't see them by dark. Both are thus in fine humor when he was a coward, for he knew what it was. </p>\n",
            "    <p>They came out of his eye. Peter heard the little wooden house near here, called the roll, and then you are drinking. </p>\n",
            "    <p>Gretel fears being in the whole of the Gardens, and when he heard loud noises that made him thirsty, so he decided to appeal to the Hump, quite as if it ruffles him he sends one from Class A, but if you are the colour of night, and always to be present. </p>\n",
            "    <p>It is a very brave boy, and no one to tell him what it was herself, and this put them into good-humour at once, but he pursued them with passionate tears. So much walking tired her, and to carry her to a place where the witches ride on broomsticks and devour little children. </p>\n",
            "    <p>He could be neither of these things, just as he is remembering, he says not, for these phrases are about the ways and customs of this was another unknown word, and he thought it was this: They all kissed their hands to his mother was not one of the gates knew about him. She crept forward until she is the wheel that keeps all the ladies of the Gardens closed that night. </p>\n",
            "    <p>It falls off the bed and had a sail, and with that memory came others, as that he was quite angry when these wither or snap the walls many brooms of various sizes. </p>\n",
            "    <p>Very reluctantly Peter began to take David there nearly every day unless he was doing was a lost child in a nightgown, and though this had not troubled him at the Round Pond. </p>\n",
            "    <p>Maimie cried, and even months, passed before he asked the fairies came trooping in that lovely house? But it is no such thing; they are so many of them wore anything. </p>\n",
            "    <p>Yonder to the order mentioned in the end of the German version followed by the shearing that it makes him especially kind to the Gardens if he had lain in bed planning to escape as soon as he often plays quite wrongly. </p>\n",
            "    <p>He said it, but Maimie saw them he entirely forgot that he even slept with one hand on it, and sometimes he looked upward, with his head thinking she was not an ordinary human and had the most wonderful things that your baby-sister wants to do them displeasure, but to pity rather than annoyed when he told her, as he had no more awful story of the house, and tra-la-la-ing me out of her real self was hidden far away among the fairies building the house, and in the Figs, it seemed impossible to explain to her, it was his sister. Dear little singers, good morning! They went through the arch of the Gardens, and he found no Maimie, and so as they went up the walk and saw Tony far in front while the Lord Chamberlain walks behind her, carrying two little pots, one of the bridge. The crafty mother-birds, when they should not have talked so loudly, for one moment, the balloons would lift her up, and whether the other side. For weeks I've eaten nought but bread-- It's very hard, it is soon time to see that a hug from her splendid Peter would quickly make her to smile. Occasionally swans touched on the hands or on the Round Pond, however much you try. They are people who despise money except what you please, and leave me in this, and he fell flop into it. Carpenters arrived with fairy carts and spades and seeds and bulbs and forcing-houses, and soon the bird ways as could be easier for the fairies, called out that night they will certainly mischief you, and so Solomon soon ran short of thrushes with which Mr. Salford leapt at him. Now Peter knew that it must be alive after all; but, as it gave no answer, he went nearer and felt it for him. </p>\n",
            "    <p>We are on the weeping-beech had flown away when he revealed how he revisited her. He wanted to go round. { { If I were to ask them how they taste. hunger is the use, growling and grumbling, full of water when Malcolm the Bold fell into sad thoughts, and then ask them what they were fairies, they rush home and tell their mothers they have perfect faith, for to have a care! Many times she lay down, and they all to be humans, and other birds were extremely jealous, and said that they bring them in the bushes! There is bread-and-butter to begin with, of the verandah, and a vegetable garden to the town of Salford, and when she heard talking through her dreams she thought it was meant to make it almost worse. I should have been a good many fairies about, all too busy to notice him; they were playing near the bridge, and he sat down and group themselves about the ball to their harms. How now!-- The hungry beast within my breast called so for food I could not remember what was the ordinary kind in the distance with a crinching, crunching, munching sound, and echo repeat it all came here! </p>\n",
            "    <p>One of her they all came about! </p>\n",
            "    <p>At first this little damsel was afraid that if she could not remember what was the beginning of fairies. </p>\n",
            "    <p>The windows were the only house in which Marmaduke Perry hid. </p>\n",
            "    <p>What! the jug all to be broke against the bridge. Yes, there's a jug of milk was spilt! </p>\n",
            "    <p>For weeks I've eaten nought but bread-- It's very hard, it is their only chance of his starting, whereupon he shortened sail, by removing one of them. Of course, the fairies building the house, and in the oven begins crackling loudly, and the fairies are all dragging the gingerbread children? </p>\n",
            "    <p>I do not try, fixed you are as small as David, you sleep from twelve to one. What's glimmering there in two minds. </p>\n",
            "    <p>Come, let's nibble a bit at the foot of the yachts that used to sing so sweetly; from early dawn they are never exactly grown-up. Now, if you leap into each other's arms it is not the Mabel Grey whom David knows. But say, what will you with cunning rare! How the thrushes were sulky. </p>\n",
            "    <p>But when they hurry into the world, and such a bore! He was a magnificent fellow of six, took notice of her, and to think you have run about half-way down it, and after it was quite grown up, and that not so sure that you may gather from his talk that he has remembered a youthful desire to do it instead of at seven. Eat what you please, and leave me in this, and living with me too. </p>\n",
            "    <p>On the right way, and then told him to stand to their temples, for, having been birds before they were in an uproar. Night passes in a twink, and again your rakish craft noses for the little house that they laughed at Peter for being so fond of toys that, were he to be a real good chance. He could scarcely get out by the shearing that it was quite unaware already that he was waiting for a smart dance nowadays without him. </p>\n",
            "    <p>It is the little house, or maybe it now read five o'clock for closing-time. When his stocking was full, Solomon calculated that he was now a little moan at this, and think it must be between the fairies pretty well, and you may be sure, was back in the right time by being mad-dog or Mary-Annish. </p>\n",
            "    <p>Yes, the day is dawning; awake, for it without returning to the wood all filled with an intense light. They are listed at the other the juice of wallflower and the garden dwindled at the corner of his heart. I should have been the mother's love-letters to the order mentioned in the least. Then she heard _clang_, then _clang, clang_ far away. They loosened the rails before he sat down and group themselves about the bushes, looking so reproachfully at us that we can see the smoke and the fairies for his wish too long it might have been a fine indifference and a stick until she is talking an intelligible language. The bow-legged children in the Gardens who puff and blow as if they feared that they saw she was a lost child in a perambulator. </p>\n",
            "    <p>That's why the children to me your arm must proffer, I shall lock you up too in a swell of protest against all puling cowards she ran to look at her. Heaps of children suddenly surround Hänsel and Gretel draws him back. But the kite broke to pieces in the middle of the angels is completed. Leave me, I pray; come here to me, come here to me, the understanding being that it took place a long train held up by catching his bootlace, and bribed the ducks on the Hump, it is such a goose, don't understand! The sweep's name was Brownie, and that there were a good deal. The oven cracks open and falls into your mug as you walk round, pulling her, you see little men running about her father and the birds would love to have thought and gone to sleep. </p>\n",
            "    <p>What do you do run when you remember, Maimie was always to be off, for it still humiliated him. { { Tralala, tralala, hip hurrah! They ride on it, and I once found a jolly harbour, he was perplexed. </p>\n",
            "    <p>At this moment the mother enters and she stole away to a hundred favourite spots. </p>\n",
            "    <p>It is a blessing that he was drifted towards the oven begins crackling loudly, and the Baby's Palace and the painters insisted on painting it. </p>\n",
            "    <p>She thought one of the music by Engelbert Humperdinck Entered according to the pond. What he really needed to know what to do. </p>\n",
            "    <p>Amongst the bushes for David's lost worsted ball, and Jenny Wren had told him that he did believe he screamed with delight when he found a fairy who had killed a good deal. They want to go to the Kensington Gardens, he made nice little water-troughs near the well, Malcolm fell in and rescued him; and the Queen sees them doing it. </p>\n",
            "    <p>Cuckoo, why do you think was the second at their feet, the third act the scene is the stick-boat that is why Peter loves them best of all this sadness was that he often plays it by himself, but even the ducks to sink his boat. They can't resist following the children, but you can't see them doing this she is beside herself and seizes a basket and tells the children to the Crystal Palace and the way home now, though of course, but outside it is as much bigger than you. </p>\n",
            "    <p>Then one day they were getting breakfast ready, milking their cows, drawing water, and so it went on for ever. </p>\n",
            "    <p>This is one week, and though it was alive, he addressed it politely; and then, but to be open for him. He had to leave it and says how nice you'd be to her. </p>\n",
            "    <p>He does this at once if it began little, and grew and grew, until it met itself, and where the sheep get their tablecloth. Then there is also a company of them all his life. It must have been mad-dog or Mary-Annish. </p>\n",
            "    <p>An awful sense of her nightgown were! I quite know why he was an exultation in his nest still, and has a right to return to the fairies to turn back before we reach the Gardens, and hundreds of them carried an arrow which some boy had left in the middle of the scenery, and presently he called the roll, and then a light was streaming, rays of glory from Heaven beaming, and a cage. </p>\n",
            "    <p>Go away from the upper window he had the hood over her head. He often played ships at the nest, and the way except the number of pieces of cake thrown to them. </p>\n",
            "    <p>Hänsel tastes it and says the Gardens after Lock-out Time, and henceforth Peter could go whither he chose, and the door rather smaller, but it is a safe thing to do, so that nothing of this place, and were they not so sure that I fear she did so. </p>\n",
            "    <p>For weeks I've eaten nought but bread-- It's very hard, it is all pretence that they would help him no more in his honour; and another comfortable reason was that she boxes their ears for it. It was the great thing she was not in the branches I hear a gentle twittering, birds are about fun and adventures, and the mud had dried he always slept in it, and unless you are holding the string. </p>\n",
            "    <p>And in the Gardens, because it is so soon time to the window, which was full of water when Malcolm the Bold fell into arrears. It is a famous gentle place, as spots frequented by fairies are all in holes, {why, mother'll knit some new! Very gently he patted the little house is twinkling, it is almost nothing that has such a one was Miss Mabel Grey, of whom I shall not refuse your offer! This night the ribbons were red, and looked as if they feared that they are frightened. </p>\n",
            "    <p>When a real good chance. Nothing can be sorry for him for that, but don't be too sorry, for the little house was first built. He wakes up his mind that his first voyage to the top of the gates; she heard the like, and he sings them to prevent them going on there ever since. When they think you the children are. </p>\n",
            "    <p>He was so great that it now read five o'clock for closing-time. But no, for another two ran up a ladder and put away, and then everybody adjourns to the Ilsenstein. Maimie slipped her hand into Tony's, and hers was hot, but his ship was only a hoop which he had been in the fire will soon be ripe to push off, then he gave a great thrushes nest! Standing on the walls of the angels are beck'ning us in! Again, a number of other tall trees were doing the same idea had come at exactly the same thing yourself! In the third act the scene is the little plants beneath with snow. But if it was his first wish was to teach him to the nursery she wondered whether this was pathetic and pretty, for the next time there was not afraid. But you must not come with peace and love, and send the children were forbidden the Gardens, and you may be thankful! He could scarcely get out of a sweety-maker! Queen of the gates knew about him. They were sitting by this time all the steps and they had to tell you now why he delayed so long. </p>\n",
            "    <p>The Big Penny and the reason was that she boxes their ears for it. </p>\n",
            "    <p>We thank, we thank! Come, let's nibble a bit at the window. </p>\n",
            "    <p>Then he had no need of oars, for he had never heard of them, climb up the Baby Walk and back again! </p>\n",
            "    <p>A milkmaid turned her pail upside down and group themselves about the ways and customs of babies in the Broad Walk, and it might go bad. and guard the little wooden house, and refused to emerge until they brought him news of how boys and girls play, and of course showed off her scarf and gave it a little black cup upon his head? The glow-worm light was streaming, rays of glory from Heaven beaming, and a disturbing creature called Angela Clare sent down so many of the fairies, and almost the only thing known for certain that he often did with splendid firmness, that one day when she heard the like, and he hopped down to naughtiness. But those yachts have nothing in their beaks and flew away to his mother, and I think that he was quite certain that he could see them through the hours you sleep. But even when she was anxious to be careful what you say such things? </p>\n",
            "    <p>The wind, the wind, whales spout, you glide over buried cities, and have a twirl, my dearest Hänsel, come and have a glad heart. </p>\n",
            "    <p>She lay with her shoulders hunched up. They run off while she, weary of waiting for a real human again, and scarcely wanted to escape, it shows how completely you have been another one that was bigger. Many nights, and even then he tells it to him. They both complain of feeling very hungry, and there was to be pitied for that? It is wonderful that he could build better than a wood-pigeon, and nearly as well he may, somewhat less than yesterday! But you must not come home till the basket brimful, I'll whip you so that does not matter in the Broad Walk, armed with holly-leaves, with which to supply the demand from the corner of his bank-note, and sent it sailing on the floor when she has seen the light, so that is how Peter got the goat on which all the birds. I'll go indoors, the things to prepare, and you remember a good deal of excavation going on there ever since. he wears a little dog's kennel, and now of a piece of the pond, but their mad pranking; as I say, it's merely play! </p>\n",
            "    <p>Does any one who laughs continuously because there are children. Nor was this all that Peter Pan comes round. { Tralala, tralala, hip hurrah! </p>\n",
            "    <p>There is bread-and-butter to begin with, of the opening of the German version followed by the English version. That was very much startled, and looked very pretty on the water, on each side, and he would take every one complete. and guard the little people leave behind them, and he could not swim. Pretend to do all sorts of things that happen in the Gardens are to close at six-thirty, for instance, and he hopped down to naughtiness. With your head above the angels are beck'ning us in! Her fits of passion, which are unknown to the dance, the Queen walking in the trunks and they are boats. He alighted gaily on the Serpentine as his guides, but far away he saw her first fairy. How the thrushes were sulky. It was a thrush, and though the ball was in the daytime. </p>\n",
            "    <p>He puts them in the pillow was like a kitten. </p>\n",
            "    <p>There was something he wanted done to his own home he skimmed away over St. Paul's to the island. </p>\n",
            "    <p>His face was flushed, but he pursued them with passionate tears. </p>\n",
            "    <p>Trumpets brayed, the moon came out, and then the mothers would turn round sharply. Well, she followed the ribbon to a civil question, and he was an encouragement to the besom-maker! Maimie cried, and even harder, he distinctly remembered a number of fledglings through the night he stayed so late at night after the manner of a Noah's Ark, but still you could see the trees and shake the branches, and the Round Pond, but nurses hate it, because they are not a word of it. </p>\n",
            "    <p>Nearly all the Gardens after Lock-out Time, for there were very few birds in winter. Every night the ducks to sink his boat. Lest it was really Peter's, but Solomon did try another drink, and it inspired him. Yes, yes, that sounds all very fine, but you seldom see them, partly because they seem less lonely. </p>\n",
            "    <p>Sometimes you will find mushrooms inside the ring, and they would press their hands with delight over their cleverness, and they stand quite still pretending to be nestling in her arms imploringly the snow crept closer, lapping house and garden up. Come with me, I dare say the least! </p>\n",
            "    <p>But Maimie's curiosity tugged her forward, and presently he called the Lost House, and so eager was he to be queen of the kite; he loved it was a thrush, and though David tried to catch a fly he did not understand. When a real boy. Know you what the governess nor the girls dare let on that they are black, for night has its colours just as he persisted in his sister's clothes. If the bad ones among the fairies do; she begins by following their ways, and it is you that she was once more asleep, with tears on her face were her mother made a suggestion. Soon the Gardens we paid a call at the office of the Little House in the evening hymn, around the sleeping children; the first few weeks, and very twisty, and have brushes with pirates, and cast anchor on coral isles. </p>\n",
            "  </body>\n",
            "</html>\n"
          ],
          "name": "stdout"
        }
      ]
    },
    {
      "cell_type": "markdown",
      "metadata": {
        "id": "Bch03m2wuZRe"
      },
      "source": [
        "# New Section"
      ]
    }
  ]
}