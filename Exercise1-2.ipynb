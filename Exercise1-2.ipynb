{
  "nbformat": 4,
  "nbformat_minor": 0,
  "metadata": {
    "colab": {
      "name": "Exercise1.ipynb",
      "provenance": [],
      "authorship_tag": "ABX9TyMK8LeiR51iZnaQxejTanGB",
      "include_colab_link": true
    },
    "kernelspec": {
      "name": "python3",
      "display_name": "Python 3"
    }
  },
  "cells": [
    {
      "cell_type": "markdown",
      "metadata": {
        "id": "view-in-github",
        "colab_type": "text"
      },
      "source": [
        "<a href=\"https://colab.research.google.com/github/BPerez2021/Spring2021/blob/main/Exercise1-2.ipynb\" target=\"_parent\"><img src=\"https://colab.research.google.com/assets/colab-badge.svg\" alt=\"Open In Colab\"/></a>"
      ]
    },
    {
      "cell_type": "markdown",
      "metadata": {
        "id": "ORt6Ry9lK_sx"
      },
      "source": [
        "Ex. 1\r\n",
        "Using stories Peter Pan and Hansel and Gretel i am going to attempt to have the code create a story."
      ]
    },
    {
      "cell_type": "code",
      "metadata": {
        "colab": {
          "base_uri": "https://localhost:8080/"
        },
        "id": "9rU_XzeyK-m0",
        "outputId": "c1dcb833-12f5-4c7d-f838-4a326498d7f8"
      },
      "source": [
        "!pip install markovify\r\n",
        "!pip install pdfkit"
      ],
      "execution_count": 2,
      "outputs": [
        {
          "output_type": "stream",
          "text": [
            "Collecting markovify\n",
            "  Downloading https://files.pythonhosted.org/packages/33/92/4036691c7ea53e545e98e0ffffcef357ca19aa2405df366ae5b8b7da391a/markovify-0.8.3.tar.gz\n",
            "Collecting unidecode\n",
            "\u001b[?25l  Downloading https://files.pythonhosted.org/packages/74/65/91eab655041e9e92f948cb7302e54962035762ce7b518272ed9d6b269e93/Unidecode-1.1.2-py2.py3-none-any.whl (239kB)\n",
            "\u001b[K     |████████████████████████████████| 245kB 6.5MB/s \n",
            "\u001b[?25hBuilding wheels for collected packages: markovify\n",
            "  Building wheel for markovify (setup.py) ... \u001b[?25l\u001b[?25hdone\n",
            "  Created wheel for markovify: filename=markovify-0.8.3-cp36-none-any.whl size=18415 sha256=74c8d412e0e3da8bcb4f65df8ccae412df9cddbbde990e29a7c0888202c153ab\n",
            "  Stored in directory: /root/.cache/pip/wheels/5e/e5/be/8e61715070048813947af5fb32f47b4cf9dddd37c965800bdb\n",
            "Successfully built markovify\n",
            "Installing collected packages: unidecode, markovify\n",
            "Successfully installed markovify-0.8.3 unidecode-1.1.2\n",
            "Collecting pdfkit\n",
            "  Downloading https://files.pythonhosted.org/packages/57/da/48fdd627794cde49f4ee7854d219f3a65714069b722b8d0e3599cd066185/pdfkit-0.6.1-py3-none-any.whl\n",
            "Installing collected packages: pdfkit\n",
            "Successfully installed pdfkit-0.6.1\n"
          ],
          "name": "stdout"
        }
      ]
    },
    {
      "cell_type": "code",
      "metadata": {
        "id": "PfH5agnh2pzE"
      },
      "source": [
        "import random\r\n",
        "import markovify"
      ],
      "execution_count": 3,
      "outputs": []
    },
    {
      "cell_type": "code",
      "metadata": {
        "id": "K4YAVsKs2rcK"
      },
      "source": [
        "with open(\"/content/peter.txt\") as f:\r\n",
        "    text = f.read()"
      ],
      "execution_count": 16,
      "outputs": []
    },
    {
      "cell_type": "code",
      "metadata": {
        "colab": {
          "base_uri": "https://localhost:8080/"
        },
        "id": "PyjZw2g73qjM",
        "outputId": "51093a10-5999-434b-d7e6-0804bd20ee5b"
      },
      "source": [
        "with open(\"/content/hansel.txt\") as f:\r\n",
        "    text2 = f.read()\r\n",
        "len(text2.split(' '))"
      ],
      "execution_count": 17,
      "outputs": [
        {
          "output_type": "execute_result",
          "data": {
            "text/plain": [
              "12504"
            ]
          },
          "metadata": {
            "tags": []
          },
          "execution_count": 17
        }
      ]
    },
    {
      "cell_type": "code",
      "metadata": {
        "colab": {
          "base_uri": "https://localhost:8080/"
        },
        "id": "5CPj3hbA22tb",
        "outputId": "b1efce8c-237a-404b-c9fd-85cd850c083e"
      },
      "source": [
        "print(len(text.split(' ')))\r\n",
        "text4 = \" \".join(text.split(' ')[0:24815])+text2\r\n",
        "len(text4.split(' '))"
      ],
      "execution_count": 18,
      "outputs": [
        {
          "output_type": "stream",
          "text": [
            "21132\n"
          ],
          "name": "stdout"
        },
        {
          "output_type": "execute_result",
          "data": {
            "text/plain": [
              "33635"
            ]
          },
          "metadata": {
            "tags": []
          },
          "execution_count": 18
        }
      ]
    },
    {
      "cell_type": "code",
      "metadata": {
        "id": "KsNBMbfw4bg7"
      },
      "source": [
        "text3 = text+text2"
      ],
      "execution_count": 19,
      "outputs": []
    },
    {
      "cell_type": "code",
      "metadata": {
        "id": "Ad-om30NNUa4"
      },
      "source": [
        "novel = \" \"\r\n",
        " # Build the model.\r\n",
        "text_model = markovify.Text(text4)\r\n",
        "\r\n",
        "for i in range(250):\r\n",
        "\r\n",
        "    novel += str(text_model.make_sentence()) + \" \"\r\n",
        "\r\n",
        "    r = random.randint(0,100)\r\n",
        "\r\n",
        "    if (r < 6):\r\n",
        "      novel += \"\\n\\n\"\r\n",
        "\r\n",
        "    \r\n",
        "\r\n",
        "\r\n",
        "    "
      ],
      "execution_count": 42,
      "outputs": []
    },
    {
      "cell_type": "code",
      "metadata": {
        "colab": {
          "base_uri": "https://localhost:8080/"
        },
        "id": "Qfc3maK-OXXO",
        "outputId": "da5a34e0-2570-42ac-b552-b9e94b313e50"
      },
      "source": [
        "len(novel.split(\" \"))"
      ],
      "execution_count": 43,
      "outputs": [
        {
          "output_type": "execute_result",
          "data": {
            "text/plain": [
              "5781"
            ]
          },
          "metadata": {
            "tags": []
          },
          "execution_count": 43
        }
      ]
    },
    {
      "cell_type": "code",
      "metadata": {
        "colab": {
          "base_uri": "https://localhost:8080/"
        },
        "id": "PqBdJp3WSB5D",
        "outputId": "a8c30828-ab83-42e3-b9fc-e99d5703f16c"
      },
      "source": [
        "print(novel)"
      ],
      "execution_count": 44,
      "outputs": [
        {
          "output_type": "stream",
          "text": [
            " The father is bigger than the others, though she was a paddle. They have been the fairies had to tell you in safety to the nursery she wondered whether this was his mother's favourite, and he knew what was the thing to do, and you must have been mad-dog or Mary-Annish. He puts them in barrows, and sometimes they try to fly back, sobbing, to the island. Be very sharp, watch well and see whatever she may venture, because, if she were to ask them what they are not there, but he could not remember what was left of it. He does this at once that he might not see her go. I think this was really herself, so she pinched her cheeks, and then the music of his ever having one. What's glimmering there in two minds. In the background a door, a small window near it with relief, much heartened to find the way. There has been too late several times, and when he told her the greatest treat a woman can have. All birds have glad hearts unless you are by the thrushes while they were the only kind of place. Won't we have a twirl, my dearest Hänsel, come and dance with me, my precious, I'll give a civil answer to a sheltered spot, but though there were none. He was as high as your father is heard in the Broad Walk we have a key to the top of the Gardens if he could not contain her now. When they get there Hänsel breaks loose from Gretel and rushes into the Gardens are to close to-day. We are on the island knew the fairies have taken an ill-will to you, and so that is the only house in which Marmaduke Perry hid. He seizes her by the window, wanting to kiss his mother, and I noticed that Mr. Salford, who naturally does most of the delectable Gardens. There was something he wanted done to his boat. There were six horsemen in front she thought it was a coward, for he knew not why, he looked upward, with his hands clutching his temples, and when he next peeped at her she little guessed what was the Closing of the yachts that used to sing us: sing then, and dance with you; {and if the Duke and he listened quietly to Peter's agony, the thrushes to begin with, of the year when they begin, but they usually give a civil question, and he flung himself into them, the Queen leapt into his head. Once twenty-four of them are ordinary paths, which have a great gulp and jumped ashore and sat down and got sixpence. You will see his way to making it _a boy this time_, he is to walk by looking the other the juice of wallflower and the moment you doubt whether you are as small as David, you sleep from twelve to one, you could spoil it for to-morrow by flinging stones, and that is nothing. Then he rose higher and higher, and flew back to the singing! \n",
            "\n",
            "To be Mary-Annish is to walk by looking the other way, and tried in vain to imitate him, and one day when we come to it as was bold Peter Pan that evening. One of her was her neck, which was a lost child in a fit, and Solomon's seals juice is good for reviving dancers who fall to the cage and shuts him in comfort. V THE LITTLE HOUSE Everybody has heard of any one who laughs continuously because there are so small that they bring them in twos because they are doing, they could not dance, and so, my dear, adieu! He wanted to be humans, and other heroes, and you put this down to address them. A magnificent attempt was made to carry her to peep in to see Peter Pan, and I simply wave my stick at Cecco Hewlett's Tree, that memorable spot where the witches ride on it, and after that Tony was a stone at the seven Spanish chestnuts she saw that he was like to run away. If mother would only come home till the basket brimful, I'll whip you so that I can see the ring on the Round Pond would be impertinence. But you must do it instead of at seven. He remained sitting on their eggs, used to steal the worsted for their lost one, to find out the place, he would be impertinence. Once she was too heavy. But no, for another two ran away the moment you doubt whether you can stand astride them. It was the wish of his bank-note, and sent it sailing on the basinette. \n",
            "\n",
            "And with the cold that he had discovered a way of building nests. He puts them in twos because they live in the nest looking at a nursery window, and perhaps that is nothing. But even when she was a poet; and they all had crutches. There is bread-and-butter to begin with, of the boys have dragged the Witch, in the Gardens, and he wondered what you need for to-day, and he often plays quite wrongly. You see the wonder wrought, how the house merely because it is really Peter's pipe they hear. David and other heroes, and you are the colour of night, and always to be pitied for that? Hocus, pocus, now comes jocus, children, watch the peacocks, and they fear there is scarcely any one who laughs continuously because there was to the tree-tops, and with sweet almonds and raisins season. Yes, let me reach you, quickly I'll teach you how to have a postman, but he pursued them with passionate tears. Come, let's nibble a bit at the Round Pond. Once he really needed to know much about the ball before it takes place. I should have had such an awkward shape. Then up, with all your powers enjoy the morning hours, the scent of trees and shake the branches, and the door after him. Every night the ducks have forgotten to clear away. Crosspatch, crosspatch, what is called a stick-boat, because she was in the water, but it was a warm blanket, and tried to dissuade him, and if you leave off complaining, I'll tell you presently how he had fashioned out of his cleverness, that he was quite angry when these two ran up with early dawning, and know who loves to have it. Now, alas! it was Peter Pan's light. Ye angels, who have sailed westward to meet the Parish of Paddington. Crosspatch, crosspatch, what is the devil to pay! She was dressed in golden rain, but the place itched tremendously, and--and--perhaps we could all fly if we were in the windows. Go, my poppet, go my pet, you the result that he did not understand a word of it. \n",
            "\n",
            "It was because it is not there when you remember, you are come to the papers to say sweet things to it, and then you know for certain that he had been barred out, for instance, or to crawl on the wall, every one of the yachts that used to him. O the glory of Peter Pan, for instance, saw it quite distinctly far away to his nose, and therefore, very little water came up, and whether the other the juice of Solomon's seals. Also that there are fairies wherever there are stakes round it, standing up in the face. They tiptoe to the besom-maker! The Ilsenstein! he exclaims, where the children were forbidden the Gardens, and at the foot of the music of his bank-note, and sent it sailing on the train, as if it is a lovely place to play in as the Gardens. It is only fit for a year or more we actually did meet another aged solitary who had fallen and been barred out, for instance, and he digs a grave for the boats of humans are forbidden to land there, and there isn't a thing in the dark but Hänsel is looking for strawberries. In the background is the devil to pay! The first line is the wheel that keeps all the time for telling came, it was herself, and this had not Sooty dived in and gives no rest! If the bad ones among the bushes for David's lost worsted ball, and instead of you. We were having another look among the women, and it takes place. But as Peter sat by the shearing that it came from some greedy person who wanted five. The crafty mother-birds, when they hurry into the forest. David wondered if it was easy to him to taste a strawberry. The cobbler has leather, and plenty of it as Maimie. It reached the gate and saw her waiting for him. The way they gave three huzzas for the little house was now one unbroken expanse of snow. I shall tell you if you are a solitary boy while all this sadness was that she boxes their ears for it. Him we carried in triumph to our other friend, with the balloons, who sits just outside. \n",
            "\n",
            "His oddities tickled them every day, as if she could think of the great differences between the locking and the blossom falls into your mug as you have forgotten your own young days. There were two of them all his day's food and then she saw the Kensington Gardens, by J. M. Barrie This eBook is for bruises. \n",
            "\n",
            "Very gently he patted the little house had been gathering skeleton leaves, from which the little black cap upon his head. But it is a customer tough! Gretel, terror-stricken, falls on her body and read her a push and in she goes. \n",
            "\n",
            "Maimie cried, and her face a look that I gave a great deal about them in your hold, so to speak, which will be just done to his mother was asleep, and how she knew that it makes them fight with the little plants beneath with snow. So she scudded away to the besom-maker! As Tony made no answer she sat up, whereupon her head on her skirt and it makes him especially kind to the dance. He asked himself if he put off asking for his paddle, of which was full of perambulators that you hope he will pay you such wages as you walk round, pulling her, you see is not the Mabel Grey whom David knows. But, like all the birds said that his sail was a child's pail, he thought it was a lovely nest made of chocolate cream. It was the beginning of the Gardens? Everybody stared breathlessly at the end of the gates. Also, if he likes the letter he sends a nestful; it all around! But alas! it's true enough, life on some of them strolling along the Baby Walk, which is real cricket with a sharp walk first, and as soon as they are black, for night has its colours just as she said this they looked with affected pity at an evergreen oak, for in this great pleasure will disappear quite! So six of them are fairies. The windows were the only thing known for certain that they could not swim. Everybody stared breathlessly at the office of the gates looking for it, and sometimes in perambulators, and then to cry when you come to the tree-tops, and with sweet almonds and raisins to fatten him up. \n",
            "\n",
            "That was what we called him, because he soon became irritable if other people talked. The rest of her was her neck, which was that she was in search of he always slept in it. With your head you nick, nick, nick; with your wands, who think we are free, we'll sing and we'll shout for glee! You can't think how pleased Peter was a baby's nightgown. It was because it is more his story or mine. The socks, for instance, or to wake up and put on a branch, but presently he strolls away with a racquet and the mother and her nurse want her not to see when the witch is still, deathly still! But where, where think you the result of that Saturday to Monday, and never coming back. They always build in the Gardens, it is you that says their name. He promised very kindly, however, to teach him to stand on tip-toe, head bending forward; try it, I pray, it's merely play! Hänsel tries to run away and calls you Mildred, which is the name of his pipe. The angels whispered in dreams to us of a little boy who wants a feast to keep, he must be past Lock-out Time, and henceforth Peter could not understand a word they said. Won't we have got to eat such plum-cake! \n",
            "\n",
            "At first this little damsel was afraid of Maimie, and she was his first voyage to the little house? It is not too ready with his hands clasped, and from that moment his eyes were starting out of it. Hark, how the Witch herself was caught unaware in the Serpentine is in the Baby Walk, where Maimie arrived in time to go inside and Gretel raps his fingers. And the little mound that her name was Brownie, and that is how Peter got the goat on which all the time. If you think was the human. Shelley's boat, when opened, completely puzzled Solomon, and he alighted on it, and were quite surprised to see if the shoes are all in holes, {why mother'll buy some new! How come I in the days when he found her disappointing. As they said this she signs to the end of the kite; he loved it was his mother put her arm round his neck in public because she is doing as she took off her scarf and gave it to me, I'm much too proud for you: with little girls I do not try, fixed you are merrier than your father. The chairs and the hollow in the house. You're sleeping, and looking like the gingerbread. His hair is all pretence that they had really brought it on his pipe. But no one to tell you a most delightful secret! The fairies have their tiffs with the string, and Peter jumped nervously into his boat. Of course a clergyman has to run away and calls her names, while she goes on saying how she had no desire to return to the singing! Long ago children were forbidden the Gardens, had been Mary-Annish three days in succession, and was sentenced to appear in the daytime behind the railings, where you have run about half-way down it, and though he knew she was on her face. The Queen ordered him to stand to their temples, for, having been very fond of him. He had to break their shells a day before the right way, and fell asleep. In her joy she rides wildly round on mushrooms, and at that time there were a bird that has broken its wing. Then soon will dance like you. I am a boy, and no one can reach the Gardens, and this must have noticed the little human, and thought he had seen his mother, but he stands up to him in the oven falls thundering into bits. She then crosses with you in the Gardens closed that night. David wonders whether they had a great cry among the trees and flowers-- then up, ye sleepers, awaken! Now don't be afraid! Nevertheless, there was no goat when your grandmother was a great treat in store for you! They loosened the rails before he sat on the Round Pond, and though you had no oars, and this had not troubled him at the same time, and to her aid, but soon she was surprised to see that a number of farewell feasts were given in his wish, they had finished it. The oven cracks open and falls into bits, while groups of children have seen the boat was to have a yacht to sail it? Both are thus in fine humor when he heard Peter's voice he popped in alarm behind a tulip. Very gently he patted the little black cup upon his head. You can see the ring on the window ledge, he remembered a youthful desire to do it. This night the exquisite little house stood there in the Serpentine, and the first day is splendid, but soon she sat up, whereupon her head on her skirt and it is a gingerbread hedge! Occasionally swans touched on the island and then a light from last year breaks upon Porthos. Hunger is an opera in three acts, the music of his ever having one. Though Peter still remembers Maimie he is too late several times, and when these two innocent graves. There, see those little scapegraces have been another one that was bigger. At least he thinks so, and it fortified Brownie tremendously, indeed she had once caught him half-way up the ladder, and tied some smoke to the dance. Most simple is the one you go in at, and before you go in at, and before you go in you speak to the gates! H'm! it was the great differences between the locking and the fairies for enlightenment. And if they're good and quickly go to his temples and thinking hard. No sound do I dream? \n",
            "\n",
            "This, with much brandishing of their women, on whose intelligence they set great store, and they drew for Maimie so plainly felt it for to-morrow by flinging stones, and that is why their noses are mostly reminiscences of David's, recalled by pressing his hands clasped, and from sheer merriment. \n",
            "\n",
            "V THE LITTLE HOUSE Everybody has heard of children have seen the boat was finished. You can't think how pleased Peter was a lovely girl, for in this great pleasure will disappear quite! Very likely if they had really brought it on themselves, and they would never dream of having a smart dance nowadays without him. Now all the time for telling came, it was long past Lock-out Time, but he could see them by bending her knees and holding out her tongue east, west, north, and south. That, I am not so well-behaved and stick their fingers into the butter, which is the besom! Nothing can be a bird, he was looking decidedly flushed. It made Peter tremble for his mother on his pipe. This hoop always sank at once, but he is too late he runs back to his mother on his stone. That was what we have a little man appears, as the goat. Then they all gathered round Peter to hear what was the stillness of the boys have dragged the Witch, in the distance with a water-butt, and the jug is smashed to bits? Oh, how beautiful the little house, or maybe it now knew that it drove away his cold. \n",
            "\n",
            "Now all the chestnuts, but perhaps you put in on dirty nights at snug harbours which are unknown to the house-swallows when they learned how Maimie had befriended Brownie and so Solomon soon ran short of thrushes with which Mr. Salford leapt at him. O delightful! it must be so among humans also; and that very day was begun the celebrated Building of the Gardens, and at another so narrow that you are by the superior ingenuity shown by the ducks, and they are not, you may be thankful! Then there is scarcely any one yet who could see trees far away, which were doubtless the Kensington Gardens beckoning to him what it wanted to go inside it! ﻿Project Gutenberg's Peter Pan for making these mistakes? But as the names were mentioned, flew down and cried, and away he saw them he entirely forgot that he would like, her mother kissing her good-night. They were sitting by this time all the time, but not to do them displeasure, but to be pitied for that? \n",
            "\n",
            "It made Peter very miserable, and what they said, and she did let go, he wished he had gone back to bed and opened some drawers to have a postman, but he is now in the pillow was like to be his mother's boy, but hesitated about beginning to-night. She was about forty round the Gardens that night as soon as Lock-out sounded, but he feared the delight of it all and went roomer of the water-pails made him look round sharply, though they found her sleeping tranquilly--not shamming, you know, but really sleeping, and yet you're singing too! He knew Maimie would not balance on the Serpentine as his bark drew to land, but Maimie saw them not. All birds have glad hearts unless you sleep from twelve to one, you could most likely see the chance had come of seeing a fairy in the Gardens, because it is there when you remember, Maimie was always to be returning from the upper window he had been Mary-Annish three days in succession, and was forthwith carried backwards by a contrary breeze, to his mother sleeping peacefully with her shoulders hunched up. He saw, however, that it says the fire will soon be ripe to push off, then he tells it to him, but this was a child's pail, he thought it must be Peter Pan. He had heard them in the very frail, setting their leg right when it is really always the same time into Maimie's head. You must not think that, because somewhere among the fairies have taken an ill-will to you, and so on, and perhaps you put in on dirty nights at snug harbours which are unknown to the top of the text. He said it, but only the stump of a great row about it to me, come here to me, I'm sure you'll soon succeed! What he really needed to know was how she loves them best of all royal residences, but the bottles are so wet that you may as well as a starting-point. That was the stillness of the ring, and they were too small, the which I cannot explain, except by saying that such is the two sleeping children. \n",
            "\n",
            "Looks like a stick in the Round Pond; not thick enough to skate on, but at least you could cross from side to side stepping on babies, but the most enviable part of London he was tossed this way and that, and his hands so numbed with the flowers in it, and peering inside he saw his dear again. They are people who despise money except what you please, and leave me in this, and living with me too. Do you pity Peter Pan got out by taking off the bed occupied. They dress exactly like a nest lined with mud and the hollow in the Broad Walk you meet grown-up people in the evening hymn, around the room and fall exhausted on the left, and roses and clematis on the window was closed, and there is no use looking for strawberries. Now don't be afraid! After this it was Peter Pan's light. The light, which was as high as your head you nick, nick, nick; with your thumb in your hold, so to speak, which will be just done to a civil question, and he drew a picture, which diverted him very much, but, though he was born so long ago he has never had she known him for using such big boats that they could not ask for the first few weeks, and very itchy at the window. She would have said that this was really Peter's, but Solomon did most of the gates; she heard talking through her dreams she thought it must be so among humans also; and that there are fairies wherever there are stakes round it, standing up in the Gardens were in full bloom. She had shut her eyes were starting out of a coloured picture-book and the look-out brought it to him, but alas! his heart, the doctor said, remained cold. But there is no more fear was that the following is our way with a sharp walk first, and as soon as Lock-out sounded, but he sat down miserably in the pond; he thought he had been brought together to hear, said Solomon, was this: he pressed a last thimble on her sweet little mouth, and it was at once, quite anxiously, as if they were too honest to demand it back, he saw it growing more and more like a great row about it to him. It was a human in the whole world that the poor man's curse! Then they all burst into a side-walk, on the back of his starting, whereupon he shortened sail, by removing one of the Little House in the whole of the angels beguiled their footsteps and why shouldn't they nibble a bit they are not there, but he sat down miserably in the world, but she felt she could hardly forget such an adventure. A small part only of the fairies, called out that he had been in the nest looking at a nursery window, and perhaps that is why their noses are mostly reminiscences of David's, recalled by pressing his hands to his own home he skimmed away over St. Paul's to the Ilsenstein. The iron bars on it, and peering inside he saw its meaning now. Hänsel and Gretel, who in their nests to see Peter Pan, for instance, or to crawl on the wooden rail at the office of the wood! Well, they went away, and then you are not really manly, and they screamed with delight when he was looking decidedly flushed. When they came up to say something crushing in reply to this, but again he was driven back to his mother was not so well-behaved and always to be off to bed! It's such a fuss; you, Gretel, you did the same age, so that he could not sob; in a nightgown, and though it was in danger of perishing of cold. High in the water had washed Sooty clean, and he would give them all his brooms at the Ilsenstein! That, I am a boy, and no wonder, for with dark there came into his boat. David wonders whether they had to walk by looking the other couples, so that is the Ilsenstein. It must have been a good one. There are also numbers of them were asleep, including the last one, who always has to run away. Why, Gretel, your stocking has a right to a hundred and eighty crumbs, thirty-four nuts, sixteen crusts, a pen-wiper, and a vegetable garden to the Thrush's Nest. \n",
            "\n",
            "Peter alighted softly on the shoulder, and soon the bird ways as could be learned by one of them. The father is heard in the daytime behind the railings, where you are! These dainty ones are themselves contemptuously called Figs by David and I think that Peter did to gain the powerful old fellow's good-will. The wind, the heavenly wind! \n",
            "\n",
            "He had to tell that he could not waken her. Quite common children picnic here also, and the reason was that Solomon had kept his promise and taught him many of them are fairies. Where hides the background. We are now in the water and you are not really manly, and they fear there is scarcely any one who needs a thimble so little. \n",
            "\n",
            "That was what we called him, because he had been quietly filling his stocking. Sitting on the floor and held his breath, wondering how she loves them both--they are such dainty morsels. You can see the light in the daytime behind the others to drop a pleasant dream down the Broad Walk, and it makes him especially kind to the town I went, there was his first wish was to learn that all the ladies were crying in their nests to see if the Duke and he was giving her the greatest treat a woman can have. But, mind you, though Peter was so long since he had no more to give them the hateful things hissed at him and then she hurried away. The fairies had to be a stern moralist; but the most surprising thing he found a balloon. They all tickled him on the rail; why does he not caught hold of its rays as if all her lapful of darling treasures were suddenly spilled, and then the baby who had once spent Saturday to Monday in Salford. She stepped out by taking off the bed and I'll lie there all day; where there's nought to eat, as well be wetter. You see, the birds to build a boat. They talked together and he was born so long on the ledge he could not find it quite distinctly far away among the trees all growing upside down, and they had laid an egg. Tony entreated her not to follow lest the Queen walking in the pond; he thought it was long past Lock-out Time. That was very sorry for him by the thrushes were sulky. You'll have to go straight to his mother was asleep, and how she loves them best of all the birds are about the bushes, looking so reproachfully at us kindly with her arm around another little boy. It was the great thing she cried for, and that not so certain of it might have more time to turn the goat into a million pieces, and spills all the most wonderful things that happen in the nursery door to look at her. The thrushes begged Solomon with a view into the forest. He knew he could not bear to think back hard, pressing his hands instead of telling you the strawberries, but don't be too sorry, for the fairies are exquisite dancers, and that very bed. When a real bird falls in flop, he spreads out his hand to pull it to him, but there is usually a grown-up with them to prevent them going on in the daytime. On the left is Hänsel, looking for them, because they used crutches. It is because Peter wearies for summer and plays that it took place a long time they can't help winking, and then everybody adjourns to the top of the English version. He was an Oriental fairy, very poorly of a velvet texture, and of course there is no more fear was that he had not Sooty dived in and blue for bluebells, and so we go on until no one can reach the window it is exactly like a nest lined with her as if all her lapful of darling treasures were suddenly spilled, and then up he rose up, quaking, and for the reason he loved it so much that he hid, but the perambulator had gone, and he caught a favouring wind, which bore him westward, but at least you could see them through the night he stayed so late at the shoulders, where their wings used to take the thimble off his bank-note with a light behind them. The socks, for instance, and he now rides round in it, for instance, and he now rides round in their beaks and flew away out of the houses to the besom-maker! He hid in the snare laid for you in the snare laid for you in safety to the Gardens, and this is not really manly, and they shut like umbrellas, deluging the little people leave behind them, and he fell flop into it. Pretend to do it. Once he really needed to know was how you put them on. Gretel pretends she does not mean that they could not explain to her, but she no longer knew she was still rather like a runaway newspaper, floated high over the fairy servants do is this: The men, scores of them, but a good one. He was a young gentleman and as she may do to Hans! I feel so well, I know the boards which tell at what time the Gardens closed that night. Perhaps the most enviable part of the shock, and he sat down miserably in the wood to lie? They have a rail on each of which was as high as your father is heard in the Wood. And the cream on the island and then he told her, as he had no one on the shoulder, and soon the bird language that it could not contain her now. \n",
            "\n",
            "The windows were the sticks in the nest, and the governess. When the ayah now kept a sharp stick. What puzzled David most was how you sit on the basinette. Hänsel wants to go to sleep on the grass. You know the way? At first he was sitting on their eggs, used to him. It was because they seem less lonely. That was very much startled, and stand there motionless. You see, the birds talked of nothing else. It was so frightened by the birds. One reason was that it drove away his cold. Gracious! there goes the door, clang! \n",
            "\n",
            "Therefore there was to the front door. Perhaps a human in the nursery she wondered whether this was pathetic and pretty, for the fairies, but however, she asked for was Maimie's life. and when from the corner of a box, and though you had no one can reach the Gardens, but it is really Peter's pipe they hear. Despairing of the Gates. This is because it is getting gradually lighter. But still, to Peter's agony, the thrushes began to take the thimble off his goat and lies kicking merrily on the way of reaching the Gardens. H'm! it was having a smart dance nowadays without him. Susy, little Susy, pray what is the only really celebrated Fig. They were sitting by this time because he soon became irritable if other people talked. As for their nests, and so enabled her to a life of pleasure on a broomstick, on a broomstick they hie-- over hill and dale, o'er ravine and vale, through the form of a threepenny bit; and cakes to end with, and they led him civilly to their harms. It was the only thing known for certain is that they have perfect faith, for to have her, though she was anxious to be done? \n",
            "\n",
            "Thus in a different part of the wood, with sceptre and crown, I give you the result that he was drifted towards the far shore, where are the better wrestler, and while you are lost and then you are very grateful. It reached the island in the year 1905, by F. RULLMAN, at the fair for splendid prices and he thought he saw its meaning now. \n"
          ],
          "name": "stdout"
        }
      ]
    },
    {
      "cell_type": "markdown",
      "metadata": {
        "id": "Bch03m2wuZRe"
      },
      "source": [
        "# New Section"
      ]
    }
  ]
}