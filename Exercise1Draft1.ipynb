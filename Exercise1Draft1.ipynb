{
  "nbformat": 4,
  "nbformat_minor": 0,
  "metadata": {
    "colab": {
      "name": "Untitled1.ipynb",
      "provenance": [],
      "authorship_tag": "ABX9TyOPV91oF4QXWGkGgXCRtk9B",
      "include_colab_link": true
    },
    "kernelspec": {
      "name": "python3",
      "display_name": "Python 3"
    }
  },
  "cells": [
    {
      "cell_type": "markdown",
      "metadata": {
        "id": "view-in-github",
        "colab_type": "text"
      },
      "source": [
        "<a href=\"https://colab.research.google.com/github/BPerez2021/Spring2021/blob/main/Exercise1Draft1.ipynb\" target=\"_parent\"><img src=\"https://colab.research.google.com/assets/colab-badge.svg\" alt=\"Open In Colab\"/></a>"
      ]
    },
    {
      "cell_type": "markdown",
      "metadata": {
        "id": "ORt6Ry9lK_sx"
      },
      "source": [
        "Ex. 1\r\n",
        "Using stories Peter Pan and Hansel and Gretel i am going to attempt to have the code create a story."
      ]
    },
    {
      "cell_type": "code",
      "metadata": {
        "colab": {
          "base_uri": "https://localhost:8080/"
        },
        "id": "9rU_XzeyK-m0",
        "outputId": "8a4c27c8-a0f6-4025-8c47-9c058dd5a584"
      },
      "source": [
        "!pip install markovify\r\n",
        "!pip install pdfkit"
      ],
      "execution_count": 1,
      "outputs": [
        {
          "output_type": "stream",
          "text": [
            "Collecting markovify\n",
            "  Downloading https://files.pythonhosted.org/packages/33/92/4036691c7ea53e545e98e0ffffcef357ca19aa2405df366ae5b8b7da391a/markovify-0.8.3.tar.gz\n",
            "Collecting unidecode\n",
            "\u001b[?25l  Downloading https://files.pythonhosted.org/packages/74/65/91eab655041e9e92f948cb7302e54962035762ce7b518272ed9d6b269e93/Unidecode-1.1.2-py2.py3-none-any.whl (239kB)\n",
            "\u001b[K     |████████████████████████████████| 245kB 6.6MB/s \n",
            "\u001b[?25hBuilding wheels for collected packages: markovify\n",
            "  Building wheel for markovify (setup.py) ... \u001b[?25l\u001b[?25hdone\n",
            "  Created wheel for markovify: filename=markovify-0.8.3-cp36-none-any.whl size=18415 sha256=dff3285fe75d9c443810dc0fe258e3d679dcafe603b778ac1bf087256ba4542b\n",
            "  Stored in directory: /root/.cache/pip/wheels/5e/e5/be/8e61715070048813947af5fb32f47b4cf9dddd37c965800bdb\n",
            "Successfully built markovify\n",
            "Installing collected packages: unidecode, markovify\n",
            "Successfully installed markovify-0.8.3 unidecode-1.1.2\n",
            "Collecting pdfkit\n",
            "  Downloading https://files.pythonhosted.org/packages/57/da/48fdd627794cde49f4ee7854d219f3a65714069b722b8d0e3599cd066185/pdfkit-0.6.1-py3-none-any.whl\n",
            "Installing collected packages: pdfkit\n",
            "Successfully installed pdfkit-0.6.1\n"
          ],
          "name": "stdout"
        }
      ]
    },
    {
      "cell_type": "code",
      "metadata": {
        "id": "PfH5agnh2pzE"
      },
      "source": [
        "import random\r\n",
        "import markovify"
      ],
      "execution_count": null,
      "outputs": []
    },
    {
      "cell_type": "code",
      "metadata": {
        "id": "K4YAVsKs2rcK"
      },
      "source": [
        "with open(\"/content/peter.txt\") as f:\r\n",
        "    text = f.read()"
      ],
      "execution_count": 15,
      "outputs": []
    },
    {
      "cell_type": "code",
      "metadata": {
        "colab": {
          "base_uri": "https://localhost:8080/"
        },
        "id": "PyjZw2g73qjM",
        "outputId": "99bdd720-19cb-4025-99b5-c0c58cc3aff7"
      },
      "source": [
        "with open(\"/content/hansel.txt\") as f:\r\n",
        "    text2 = f.read()\r\n",
        "len(text2.split(' '))"
      ],
      "execution_count": 21,
      "outputs": [
        {
          "output_type": "execute_result",
          "data": {
            "text/plain": [
              "24815"
            ]
          },
          "metadata": {
            "tags": []
          },
          "execution_count": 21
        }
      ]
    },
    {
      "cell_type": "code",
      "metadata": {
        "colab": {
          "base_uri": "https://localhost:8080/"
        },
        "id": "5CPj3hbA22tb",
        "outputId": "c058e0f3-b620-4902-d877-c7aed49035c9"
      },
      "source": [
        "print(len(text.split(' ')))\r\n",
        "text4 = \" \".join(text.split(' ')[0:24815])+text2\r\n",
        "len(text4.split(' '))"
      ],
      "execution_count": 29,
      "outputs": [
        {
          "output_type": "stream",
          "text": [
            "24037\n"
          ],
          "name": "stdout"
        },
        {
          "output_type": "execute_result",
          "data": {
            "text/plain": [
              "48851"
            ]
          },
          "metadata": {
            "tags": []
          },
          "execution_count": 29
        }
      ]
    },
    {
      "cell_type": "code",
      "metadata": {
        "id": "KsNBMbfw4bg7"
      },
      "source": [
        "text3 = text+text2"
      ],
      "execution_count": 25,
      "outputs": []
    },
    {
      "cell_type": "code",
      "metadata": {
        "colab": {
          "base_uri": "https://localhost:8080/"
        },
        "id": "Ad-om30NNUa4",
        "outputId": "aabad59d-d89a-428d-c9cb-151e8116aee6"
      },
      "source": [
        " # Build the model.\r\n",
        "text_model = markovify.Text(text4)\r\n",
        "\r\n",
        "for i in range(10):\r\n",
        "    print(text_model.make_sentence())\r\n",
        "\r\n",
        "    "
      ],
      "execution_count": 30,
      "outputs": [
        {
          "output_type": "stream",
          "text": [
            "Thus, we do not agree to be able to do all she commands-- O, there she's coming back, sh! hush!\n",
            "The way they gave it a little boy many years afterwards.\n",
            "If the second wish seemed wasteful, and, of course, one must pity him all the milk.\n",
            "O Heaven! all the individual works in compliance with any particular state visit https://pglaf.org While we cannot dine!\n",
            "und gar nichts mehr.\n",
            "I wonder how they sat on the island, and he made nice little water-troughs near the nests and dug up worms for the Opera and all the time at the Round Pond, which is the Ilsenstein, thickly surrounded by fir-trees.\n",
            "David and other birds came out of his nightgown, and away she ran to look for them very like David's handwriting, so we think they must take a sharp eye on her.\n",
            "Email contact links and up her arms imploringly the snow crept closer, lapping house and garden up.\n",
            "When in the Gardens.\n",
            "The reason it is exactly like a stick until she was his mother's favourite, and he often plays quite wrongly.\n"
          ],
          "name": "stdout"
        }
      ]
    },
    {
      "cell_type": "markdown",
      "metadata": {
        "id": "Bch03m2wuZRe"
      },
      "source": [
        "# New Section"
      ]
    }
  ]
}