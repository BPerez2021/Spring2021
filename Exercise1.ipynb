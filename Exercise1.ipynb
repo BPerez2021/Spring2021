{
  "nbformat": 4,
  "nbformat_minor": 0,
  "metadata": {
    "colab": {
      "name": "Exercise1.ipynb",
      "provenance": [],
      "collapsed_sections": [],
      "authorship_tag": "ABX9TyMpCbrwCOv+KjB0Ve4VVs2v",
      "include_colab_link": true
    },
    "kernelspec": {
      "name": "python3",
      "display_name": "Python 3"
    }
  },
  "cells": [
    {
      "cell_type": "markdown",
      "metadata": {
        "id": "view-in-github",
        "colab_type": "text"
      },
      "source": [
        "<a href=\"https://colab.research.google.com/github/BPerez2021/Spring2021/blob/main/Exercise1.ipynb\" target=\"_parent\"><img src=\"https://colab.research.google.com/assets/colab-badge.svg\" alt=\"Open In Colab\"/></a>"
      ]
    },
    {
      "cell_type": "markdown",
      "metadata": {
        "id": "ORt6Ry9lK_sx"
      },
      "source": [
        "Ex. 1\r\n",
        "\r\n",
        "---\r\n",
        "\r\n",
        "\r\n",
        "Using stories Peter Pan and Hansel and Gretel I am going to attempt to have the code create a story."
      ]
    },
    {
      "cell_type": "code",
      "metadata": {
        "colab": {
          "base_uri": "https://localhost:8080/"
        },
        "id": "9rU_XzeyK-m0",
        "outputId": "adb7eaf2-0aaf-4386-c136-9ef9744725e8"
      },
      "source": [
        "!pip install markovify\r\n",
        "!pip install dominate\r\n",
        "!pip install wkhtmltopdf\r\n"
      ],
      "execution_count": 14,
      "outputs": [
        {
          "output_type": "stream",
          "text": [
            "Requirement already satisfied: markovify in /usr/local/lib/python3.6/dist-packages (0.8.3)\n",
            "Requirement already satisfied: unidecode in /usr/local/lib/python3.6/dist-packages (from markovify) (1.1.2)\n",
            "Requirement already satisfied: dominate in /usr/local/lib/python3.6/dist-packages (2.6.0)\n",
            "Requirement already satisfied: wkhtmltopdf in /usr/local/lib/python3.6/dist-packages (0.2)\n"
          ],
          "name": "stdout"
        }
      ]
    },
    {
      "cell_type": "code",
      "metadata": {
        "colab": {
          "base_uri": "https://localhost:8080/"
        },
        "id": "_dPH5IwKi6gG",
        "outputId": "b786f913-ad1f-4563-95a3-f57537dc50ae"
      },
      "source": [
        "!pip install pdfkit"
      ],
      "execution_count": 1,
      "outputs": [
        {
          "output_type": "stream",
          "text": [
            "Requirement already satisfied: pdfkit in /usr/local/lib/python3.6/dist-packages (0.6.1)\n"
          ],
          "name": "stdout"
        }
      ]
    },
    {
      "cell_type": "code",
      "metadata": {
        "id": "PfH5agnh2pzE"
      },
      "source": [
        "import random\r\n",
        "import markovify\r\n",
        "import dominate\r\n",
        "from dominate.tags import *\r\n",
        "import pdfkit\r\n"
      ],
      "execution_count": 20,
      "outputs": []
    },
    {
      "cell_type": "code",
      "metadata": {
        "id": "K4YAVsKs2rcK"
      },
      "source": [
        "with open(\"/content/peter.txt\") as f:\r\n",
        "    text = f.read()"
      ],
      "execution_count": 3,
      "outputs": []
    },
    {
      "cell_type": "code",
      "metadata": {
        "colab": {
          "base_uri": "https://localhost:8080/"
        },
        "id": "PyjZw2g73qjM",
        "outputId": "4ead1f17-1c4e-4154-f880-f58ee973ba99"
      },
      "source": [
        "with open(\"/content/hansel.txt\") as f:\r\n",
        "    text2 = f.read()\r\n",
        "len(text2.split(' '))"
      ],
      "execution_count": 4,
      "outputs": [
        {
          "output_type": "execute_result",
          "data": {
            "text/plain": [
              "12504"
            ]
          },
          "metadata": {
            "tags": []
          },
          "execution_count": 4
        }
      ]
    },
    {
      "cell_type": "code",
      "metadata": {
        "colab": {
          "base_uri": "https://localhost:8080/"
        },
        "id": "5CPj3hbA22tb",
        "outputId": "6fb09589-0fcd-468d-9cc5-ae166234233c"
      },
      "source": [
        "print(len(text.split(' ')))\r\n",
        "text4 = \" \".join(text.split(' ')[0:24815])+text2\r\n",
        "len(text4.split(' '))"
      ],
      "execution_count": 5,
      "outputs": [
        {
          "output_type": "stream",
          "text": [
            "21132\n"
          ],
          "name": "stdout"
        },
        {
          "output_type": "execute_result",
          "data": {
            "text/plain": [
              "33635"
            ]
          },
          "metadata": {
            "tags": []
          },
          "execution_count": 5
        }
      ]
    },
    {
      "cell_type": "code",
      "metadata": {
        "id": "KsNBMbfw4bg7"
      },
      "source": [
        "text3 = text+text2"
      ],
      "execution_count": 6,
      "outputs": []
    },
    {
      "cell_type": "code",
      "metadata": {
        "id": "Ad-om30NNUa4"
      },
      "source": [
        "novel = \" \"\r\n",
        " # Build the model.\r\n",
        "text_model = markovify.Text(text4)\r\n",
        "\r\n",
        "for i in range(250):\r\n",
        "\r\n",
        "    novel += str(text_model.make_sentence()) + \" \"\r\n",
        "\r\n",
        "    r = random.randint(0,100)\r\n",
        "\r\n",
        "    if (r < 36):\r\n",
        "      novel += \"\\n\\n\"\r\n",
        "\r\n",
        "chunked = novel.split(\"\\n\\n\") \r\n",
        "\r\n",
        "doc = dominate.document(title='Hansel, Gretel, and Peter Pan')\r\n",
        "\r\n",
        "with doc.head:\r\n",
        "  style(\"body {background-color:white; text-color:black}\")\r\n",
        "\r\n",
        "with doc:\r\n",
        "  for c in chunked:\r\n",
        "    p(c)\r\n",
        "\r\n",
        "    "
      ],
      "execution_count": 21,
      "outputs": []
    },
    {
      "cell_type": "code",
      "metadata": {
        "colab": {
          "base_uri": "https://localhost:8080/"
        },
        "id": "Qfc3maK-OXXO",
        "outputId": "b120f8a6-e5ea-4c5f-f94c-5d3b102379e4"
      },
      "source": [
        "len(novel.split(\" \"))"
      ],
      "execution_count": 22,
      "outputs": [
        {
          "output_type": "execute_result",
          "data": {
            "text/plain": [
              "5746"
            ]
          },
          "metadata": {
            "tags": []
          },
          "execution_count": 22
        }
      ]
    },
    {
      "cell_type": "code",
      "metadata": {
        "id": "PqBdJp3WSB5D",
        "colab": {
          "base_uri": "https://localhost:8080/"
        },
        "outputId": "d1279d64-431e-4c1e-fdd9-1515f4034e4e"
      },
      "source": [
        "print(novel)"
      ],
      "execution_count": 23,
      "outputs": [
        {
          "output_type": "stream",
          "text": [
            " Everybody stared breathlessly at the Round Pond, such big scissors. But she looked sad. \n",
            "\n",
            "Yes, yes, that sounds all very fine, but you know for certain that they were fairies, they rush home and tell their mothers they have beautiful schools, nothing is stirring! It is a very handsome length. They were still there, but the bottles are so stupid. \n",
            "\n",
            "She was not in the Gardens after Lock-out time. But, mind you, though Peter was a new one, because the fairies do; she begins by following their ways, and it is more his story or mine. \n",
            "\n",
            "So Malcolm would not let his mother and been barred out, for instance, the bald narrative and most of us. Of course, he had spoken the bird ways as could be easier for the next thing I mean is that, of course, but outside it is so fond of him. III THE THRUSH'S NEST Shelley was a widow; but he is too late he runs back to him; often he thought it was that the boat and exclaimed ecstatically over its loveliness, she still talked tremblingly about her mother. He saw, however, that he sat on the island is on which all the time. To be easily pleased, for instance, saw it the night he stayed so late at night that she had just time to the pond the first time, his laugh broke into a million pieces, and they say their evening prayer and sink down on the floor and held his breath, wondering how she hastened to the place of his heart, but for mercy's sake don't ask us to dinner, her dainties to share! Thus in a swell of protest against all puling cowards she ran to St. Govor's Well, and he was a magnificent fellow of six, took notice of her, he felt he could see them through the German version of the Gardens at Solomon's orders by the time her eyes tight and glued them with despatch, you know off maxims we cannot dine! But he did not understand. He cannot with dignity retreat, but he waded in for it, but Maimie merely smiled her agitating smile. Heavenly wind, I take her she'll look like a cake from the pantomime, and Oliver Bailey saw it growing more and more like a nest in my neck with little girls I do know this, that the paths make themselves because it is a very poor reason, but the nurses won't let you do me no harm! When they think you the children to the fairies and us is rough! The crutches were the only kind of place. He had to feel this for Maimie a very kind thing; she took off her scarf and gave it to Solomon Caw, and he warned them if they thought themselves bigger than you. Gretelkin, stick to me your arm must proffer, I shall lock you up too in a place where no human must be something else. \n",
            "\n",
            "You can be sure of them, but do you think Solomon did? \n",
            "\n",
            "Paths from everywhere crowd like children to the manners and customs of babies in the open sward, between the Baby's Palace and the door after him. O Heaven! all the time would be carried on as usual. \n",
            "\n",
            "Many nights, and even then they heard a grating creak, followed by the thrushes in nest-building, and this they looked with affected pity at an evergreen oak, for in winter they are naturally a little push, and it was quite impossible to thank Maimie, for they build it every night, and always in a joyful time! At first, his boat turned round and round, and he was quite surprised to find the sweetest craft that slips her moorings in the distance away, Sudden--all around a light behind them. We were having another look among the trees as we pass up the Broad Walk all the spell is o'er, really o'er! David and I can see their houses by day and night. The middle of the Boat. Move not, as you have passed without knowing that they have perfect faith, for to have wings. \n",
            "\n",
            "She then crosses with you in the distance away, Sudden--all around a light behind them. You see he had found near St. Govor's Well, and he grows frightened too. \n",
            "\n",
            "Another time, when he was drifted towards the oven startled, and stand there motionless. She was not an ordinary human and had a dream! O won't the mother enters and she allows him to think that he could not sob; in a shop, saw more than one light, she saw a thousand swords flashing for her to smile. But she spoke no more, she made little moans only, and when she heard _clang_, then from another part _clang_, then from another part _clang_, then _clang, clang_ far away. An elderberry hobbled across the lake in the snare laid for you in the oven. After this the birds would love to have wings. \n",
            "\n",
            "But it was the only house in which Marmaduke Perry hid. Half awake they say their evening prayer and sink down on the back of his youth because of the house, and refused to emerge until they brought him news of how boys and girls were doing the same one, it was only a little mantle of velvet brown. Maimie cried, falling on her body and read her a push and in the snow. \n",
            "\n",
            "So, when he was a very brave boy, and know not how long. The Big Penny and the jug of milk was spilt! This brings us to an afternoon when the Gardens you must not think, however, that he was quite proud to think back hard, pressing his hands instead of flying straight to the tree-tops, and with almost no restrictions whatsoever. \n",
            "\n",
            "She was dressed in golden rain, but the birds told him to kneel, and then she peeped from behind a tulip. And the gingerbread children who have no uncle is splendid, also to talk about it to the dance, the Queen sees them doing it. \n",
            "\n",
            "Hänsel tries to run for it, but Maimie never went back. \n",
            "\n",
            "They stood in rows on the water, but it is more his story or mine. \n",
            "\n",
            "She stepped out by the shearing that it must have been! The bow-legged children in the days when he heard Peter's voice he popped in alarm behind a tree. Once she was such a one was so great a treat? At this moment the mother be pleased with Hänsel! They stood in rows on the open sward, between the locking and the sight of the island, and he was born so long on the shoulder, and soon he could not dance, so heavy that she was too much of a lady who had supplanted him was now quite naked, you must do it as Maimie. \n",
            "\n",
            "She stepped out by the window and flew away with it; and to this day he meant was not in the right to return to this haunt of his head; they tripped him up by two pages, and on all the notable places as we were as dead-confident-sure of our houses. Gentlemen who walk home at night after the gates up to him to ask for the boats of humans are forbidden to land there, and there isn't a thing of vast importance. \n",
            "\n",
            "Also that there are also numbers of them had an extraordinary adventure. I, too, had a series of incredible adventures, one of the shadows until he caught a favouring wind, which bore him westward, but at least you could most likely see the ring on the feet? Yes, there's a jug of milk was spilt! As they are not, you may be thankful! { { Tralala, tralala, hip hurrah! \n",
            "\n",
            "All through the arch of the value of Shelley's boat; and though he could fly without wings, but the queen of the cake cautiously. She was the size of a bird never does. \n",
            "\n",
            "He does this at once because he always talked to us of a bird that has broken its wing. When we reach them, and so know nothing, and plenty to spare, why can't he make the poor man's curse! Perhaps a human in the daytime. Once twenty-four of them for the Opera and all the time. \n",
            "\n",
            "They huddle together as a thick mist arises which hides the princess who has so great a treat? \n",
            "\n",
            "It reached the island at night; and the way we found it was having a game by itself, and where the matches were kept. But of course there is a drowned forest at the highest prices! \n",
            "\n",
            "This enables them to prevent them going on the Round Pond, such big scissors. She says she sent them away in your hold, so to speak, which will be opened, perhaps, by another little wooden house in the right to a sheltered spot, but though there were so madly in love with one hand and a golden ladder saw I descending, angels adown it gliding, such lovely place called Salford where he had not taken them as his bark drew to land, but Maimie saw them float. Eia-popeia, pray what's to be pitied for that? Then they'll have to do! Or do I hear; no, nothing is taught in them; the youngest is always chief person, and usually becomes a prince or princess; and children plump and tender to eat to-day. His hair is all of gold, and his cheeks are red, he wears it on windy days because then you are by the birds. He alighted gaily on the ledge he could not wait. Half awake they say that at night write to the Round Pond; not thick enough to skate on, but after a bit of the Gates. Come with me, both my hearing and sight in this way and that, and his very last sail, and his last sail of all, and at first that it has come, and the canopy keeping step with it. Now, if you like, but for a fool? Whereupon, they straightway loved him, and was forthwith carried backwards by a contrary breeze, to his particular friends, but to a life of pleasure on a branch, but presently the Cupids had a lovely lake, and there were none. Yes, the day is splendid, also to talk about it to him, and if it is etiquette to follow her example in everything. The Queen ordered him to the west. Half awake they say their evening prayer and sink down on the mood you catch him in. Her face was aglow, but Tony's was very glad she was too much of a lovely nest made of chocolate cream. Hurrah! now sing the witch bends over and peeps into the human ways. It is because Peter wearies for summer and plays that it is not what it was that he meditated flying away and calls her names, while she goes on saying how she hastened to the fence and had a good loud call! But the witch casts a spell on them and they were cheated was that he would have said that they are boats. But they should have been made. Oh, how beautiful the little wooden house near here, called the Lost House, and so it went on for ever. He assured her that the royal guard had been Mary-Annish three days in succession, and was forthwith carried backwards by a fairy in the oven. But you must not think, however, that he was mercifully carried into a shout of joy. Carpenters arrived with a water-butt, and the garden dwindled at the office of the Gardens after Lock-out Time, for there were none. They must not think what it was at once, having been very observant during the following. He had heard them in barrows, and sometimes in perambulators, and then turn round sharply. \n",
            "\n",
            "He often played ships at the Round Pond, and though they were overheard by a fairy who was wide open, just as she took Nancy or Grace or Dorothy, and others jagged her, but she had called him back. What is all of gold, and his last sail, and his sister arrived they wanted to go hungry! She was not a bit of the court advancing in front and six behind; in the least. \n",
            "\n",
            "He and I may as well tell you a most delightful secret! \n",
            "\n",
            "They all kissed their hands to his mother, and I once found a balloon. Carefully look, pet, whether it's cooked yet, but if you mention particularly that you sleep in it that he should enjoy wearing clothes again? They want to leave it at home. \n",
            "\n",
            "One of her was her name, and all the quarrels between birds are about the bushes, looking so reproachfully at us that we can see our houses by dark, but you can't write down, for gradually you forget, and I noticed that Mr. Salford, who naturally does most of us. Sister dear, have a look at his mother, but he feared the delight of it contained a hundred flew off with the result that he had not troubled him at this time all the time, he saw the Kensington Gardens. The sweep's name was Brownie, and that is why they are so many white children in the Gardens at the seven Spanish chestnuts she saw her waiting for him. And Maimie kept her promise, and never shall I forget the gloating joy with which to supply the demand from the mainland. He quite argued with her as she did let go, he wished he had never seen a hoop, and he was quite impossible to explain to her, but it was really years and years since he had lost faith. \n",
            "\n",
            "Maimie cried, falling on her body and read her a long time he hesitated, not being certain what it was quite the loveliest of all this disturbance? Try again, and scarcely wanted to be boarded and sunk by the ducks, the real business of the scenery, and presently he called the roll, and then Tony did most of the worsted, and containing four eggs, with scratches on them and they fear there is also a way of curling round in it, and then to cry when you lie down, but it is what real boys would do, and he calls out to reassure her. \n",
            "\n",
            "When he sails, he sits down, but he never calls except at Christmas with his additions, and so as they were the only tell-tale marks these little people crying everywhere that there is also a way of reaching the Gardens. Thousands gathered round Peter to hear what was the only baby who had killed a good deal. You shall be the queen sometimes complains because the common people will peep in the other, but the queen of the kite-string, he found her deep in snow. It was difficult to know much about the fairy ring. \n",
            "\n",
            "You can't think how pleased Peter was so cross that I also may awake! \n",
            "\n",
            "He cannot with dignity retreat, but he never doubted that he had all that and five pounds over. Girls can't really play cricket, and when from the baker, by magic fire red changed into gingerbread! In the background a door, a small bay, where his boat rode at peace. Know you what the governess had heard was two gardeners coming to see Peter Pan, and I think it rather silly of you. The fairies, as is their only chance of his pipe. \n",
            "\n",
            "It was the human. \n",
            "\n",
            "They both have had to be really doing something, and to think back hard, pressing his hands to it as they well knew, wanted very much mistaken. It was the usual way with a light behind them. At this the thrushes applauded! Wallflower juice is for the fairies for enlightenment. \n",
            "\n",
            "And by day, for they are so wet that you are lost; but there is scarcely any one return to the Kensington Gardens, they were galled, and they were standing looking at a fairy all the milk. The background is still hidden in mist, which gradually rises during the week when he had gone back to the little sleepers, sh! So Malcolm would not come with him and is cheated. From the very moment of the Boat. \n",
            "\n",
            "Peter, you may as well tell you also about his paddle. His oddities tickled them every day, as if they sought to mischief him to teach him to kneel, and then she saw a thousand couples seized hold of two indignant swans and made them carry him to ask the fairies building the house, shutting the door rather smaller, but it would be obliged if he likes the letter he sends none at all, and form a ring, join hands and dance in time to go barefoot! \n",
            "\n",
            "Try again, and they all came about! \n",
            "\n",
            "V THE LITTLE HOUSE Everybody has heard of them, but do you think he was tossed this way and that, asking each other in dismay; but Peter rides round the rim of the Gardens, had been confident that her feet made, and he hung his head was stuffy; he heard loud noises that made him think it must have been! \n",
            "\n",
            "Oh, he was giving her the Kensington Gardens, and then he told her, as he persisted in his honour; and another comfortable reason was that she had never once seen a hoop, and he cried for the Cupids had a good many fairies about, all too busy to notice him; they were cheated was that he could let her put her arm around another little boy. He cannot with dignity retreat, but he sat so hard in it that he meditated flying away and never coming back. Peter tried it often, but always before he asked the fairies to turn the goat into a puddle and danced on it till the basket is nearly brimful! Of course, he could not ask for a smart dance nowadays without him. \n",
            "\n",
            "That is how Peter got the goat into one convenient for riding on. \n",
            "\n",
            "When in the Gardens, and you are not a moment to spare, but if you leap into each other's arms it is their only chance of his youth because of the old nursery legend--Babes in the least. Wallflower juice is for the best one he has, and if it wanted to go barefoot! I see the ring on the weeping-beech in the oven. \n",
            "\n",
            "I quite know why he was a street boy fairy who had once spent Saturday to Monday, and never frightened Tony with a look to say they heard a nightingale in the fire are crackling! \n",
            "\n",
            "In this story first he found a fairy in the Gardens occur because the common people will peep in to see when the Gardens is the Ilsenstein, thickly surrounded by fir-trees. They can't resist following the children, but you can't write down, for gradually you forget, and I may as well tell you a most delightful secret! All birds have glad hearts unless you sleep from twelve to one, you could spoil it for to-morrow by flinging stones, and that is the one who needs a thimble which happened to be off to the ball. \n",
            "\n",
            "But Hänsel says the angels come with you, out with you, hideous fright! But of course showed off her diamond necklace as no white throat could have such recollections if they would have said that they would never dream of having a game by itself, and he let her have a yacht to sail on the rail at the time-board to see if the shoes are all more or less in hiding until dusk, and so on. She was wearing new shoes. \n",
            "\n",
            "Very gently he patted the little people crying everywhere that there are stakes round it, standing up in the Figs and gone home sooner! When in the right way, and then she hurried away. \n",
            "\n",
            "O touch me too, that I fear she did so. \n",
            "\n",
            "On the right is a safe thing to remain behind in the middle of the eggs daily, and laughed at him for that, but don't be too sorry, for the fairies and us is that he might not see her go. \n",
            "\n",
            "Meanwhile two of them were asleep, including the sentinels, except Solomon, who was afraid; lights were extinguished, doors barricaded, and from that moment his eyes were starting out of the water-pails made him thirsty, so he decided rather sulkily to go round. You never can be a stern moralist; but the fallen leaves do it with a joyous song and enters in a shop, saw more than one gate, but that was bigger. He knew Maimie would not balance on the children. \n",
            "\n",
            "The birds pointed this out to Maimie not to do--to stand up at once if it wanted to go back. \n",
            "\n",
            "Mother, look what I ought to have it. It was the size of a sweety-maker! Thus in a jerky sort of dainty delicious, to make it by himself, but even the Lancers, when he approached them up the ladder, and tied some smoke to the time-board she was surprised to see an elm-tree stretching out its arms and yawning. \n",
            "\n",
            "You must know that Solomon had done this hard, and even put obstacles in the snare laid for us with cunning rare! Fortunately she remembered that she boxes their ears for it. \n",
            "\n",
            "For the sweetest craft that slips her moorings in the Figs taking care that no cruel boy should see us, and we can't is simply that they could not explain to her, but she was a widow; but he feared the delight of it all came here! Dear little singers, good morning! \n",
            "\n",
            "Hunger is the poor little chaffinch fluttered about the ball before it takes place. I ought to mention here that the fairies to turn back is that, of course, but outside it is a loud crash, and the fairies have taken an ill-will to you, and so eager was he to be queen of the house, and refused to emerge until they brought him news of how he longed to play with his precious bank-note, for he had meant to remain behind in the way. \n",
            "\n",
            "They all kissed their hands to his mother was crying, and he listened quietly to Peter's agony, the thrushes to look at her she little guessed what was the only house in the least. Oho, I can say so, { will not give way so, { cannot allay so, { cannot allay so, { cannot allay so, { chase it away again! He saw, however, that he should enjoy wearing clothes again? \n",
            "\n",
            "She wanted to, but she was too much of a seat if they sought to mischief him to stand to their great balls in the darkness? That was what we called him, because he had never once seen a greyhound leaping the fences of the gates were closed. It is a list of other tall trees were doing that. \n",
            "\n",
            "Gretel pretends she does not matter in the snow. The wind, the wind, whales spout, you glide over buried cities, and have a ticket on her sweet little mouth, and covered his face with his additions, and so on, she was in danger of which, he was born so long on the other hand, what times those had been barred out, for instance, and he decided to appeal to the besom-maker! The reason birds can fly and we shall tell you also about his paddle. The oven cracks open and falls into bits, while groups of children have seen the boat was to the chimney. But having tried to escape, but I told him the steps and led them right, we thank for all kinds of jubilation! Does any one who laughs continuously because there was a coward, for he had no intention of remaining in office all his brooms at the end of a dreadful complaint, namely, inability to love, and send the children to me close and tight, I'll shelter you! That was very gloomy. I am so hungry, I don't understand her, though she is wearing her best frock, and so once more with him now, and she had dropped in the pillow was like to be really doing something, and he and I know not why! \n",
            "\n",
            "Her little mind was so proud of it to him, and if he could build better than a wood-pigeon, and nearly as well tell you some day if I don't understand her, though I am so hungry, I don't know what to do! The wind, the wind, whales spout, you glide over buried cities, and have a festive time! Come, let's nibble a bit at the highest prices! Everybody stared breathlessly at the highest prices! \n",
            "\n",
            "I have promised to tell the birds this was his first voyage to the original. \n",
            "\n",
            "The roof is all of gold, and his cheeks are red, he wears a little dog's kennel, and now of a velvet texture, and of course there is a famous gentle place, as spots frequented by fairies are all more or less in hiding until dusk, and so on, but at last at home, as the birds on the Serpentine. But how strange for parents, when they visit the island, and at the time of the year 1905, by F. RULLMAN, at the Duke, who was running up the ladder, and tied some smoke to the nursery she wondered whether this was another unknown word, and he now rides round the very middle of a sweety-maker! Sister dear, have a rail on each side, and he had hidden what was the Opening of the cottage. \n",
            "\n",
            "Do as I came home I could not waken her. It so entranced her that she must never cease to run, and she did not swim across. \n",
            "\n",
            "But no one to tell you that she could scarce believe it was Peter Pan's light. \n",
            "\n",
            "The scheme to be returning from the upper window he throws down apples, pears, oranges, gilded nuts, and all good things we bring. Pray how many besoms have you nothing to show? What they had never once seen a hoop, and he listened quietly to Peter's adventures, and liked to play as other children play, and of course showed off her scarf and gave it ever so much brighter. \n",
            "\n",
            "Yes, Gretel, the angels beguiled their footsteps and why shouldn't they nibble a bit of the gates; she heard talking through her dreams she thought we had something nice to eat! They have a twirl, my dearest Hänsel, {come and have a little mantle of velvet brown. Some of them for some distance without meeting anybody, but at so great a speed that he has a right to return to the Ilsenstein. Some changes have been drowned had not Sooty dived in and are overjoyed at finding their children again. Poor ayah! she is so angry at seeing them do no work that she was covered again, and they led him civilly to their great glory and renown, they gave it to the fence and break off a bit of the English version. But Maimie was terrible. \n",
            "\n",
            "But the witch tells her to attend the ball to see that it took place a long time ago. \n",
            "\n",
            "O Gretel, come, don't make such a one was so long on the basinette. \n",
            "\n",
            "Trumpets brayed, the moon came out, and she was quite certain that he meditated flying away and calls you Mildred, which is the original line, the second wish he would like to leave it all depends on the Serpentine between fields of floating ice, through which he had never tried to pull it to the singing! \n",
            "\n",
            "Her face was aglow, but Tony's was very good indeed, O, I'm sure you can't say nay! They are people who are worth knowing, and there were very few birds in winter. And at last, after months of labour, the boat and exclaimed ecstatically over its loveliness, she still talked tremblingly about her mother. \n",
            "\n",
            "Sometimes he sends none at all, and form a ring, join hands together while we sing. Once he really needed to know a good deal about them in your babyhood, which it is just large enough to hold Peter. It is round because it is a customer tough! You must know the awful magic place, the place where it became smaller and smaller, and the oven begins crackling loudly, and the painters insisted on painting it. \n",
            "\n",
            "You see he had found on the walls of the forest. Eat what you play at pretending they are not, you may talk to yourself throughout the voyage, giving orders and executing them with the powers of hell. They want to pick more but it is no second chance, not for most of the bed occupied. David wonders whether they know each other, and so it went on for ever. Then up, with all your powers enjoy the morning hours, the scent of trees and shake the branches, and the mud had dried he always went to him. for dearly do I dream? They are in London, where the little people crying everywhere that there was to the birds would love to have one. At this bitter sight Maimie stopped blankly, as if they would press their hands hard to their harms. The roof is all locked away in disgrace to the end of the wood! In a kind of thing. \n",
            "\n",
            "Many nights, and even months, passed before he sat on a competency. \n",
            "\n",
            "So they gave him the truth about hide-and-seek, and he thought it was a very kind thing; she took Nancy or Grace or Dorothy, and others jagged her, but she had been cast upon the island, for house-swallows are the children? \n",
            "\n",
            "Nearly all the time he reached his mother's window he throws down apples, pears, oranges, gilded nuts, and all Theatres. Then the whole of the lights was bigger than they are, very likely they belong to that year. One that our grandmother used to sing us: sing then, and dance with you; {and if the Duke would choose her. But it was quite near it, and so on, she was sure of it, and though you may perish of cold and dark before Peter Pan got out by taking off the table, and so it behoves you to leave it all and went mad-dog, and, first, to show him how birds fly a kite. Kate was her neck, which was that the following is a customer tough! But how strange for parents, when they are so stupid. When she opened them something very cold ran up the ladder, and tied some smoke to the nursery she wondered whether this was really years and years since he had gone back to the servants have forgotten to clear away. \n",
            "\n",
            "He had heard them in barrows, and sometimes they try to go to the Hump, turned swiftly into a side-walk, on the Round Pond would be easy for her blood, and she was a human when he was giving her the greatest treat a woman can have. He cannot with dignity retreat, but he was mercifully carried into a puddle and danced on it with a joyous song and enters in a May dance and sing, for cakes and all good things we bring. \n",
            "\n",
            "And so I drove a roaring trade, and sold my brushes at the Temple, which is got from the roots of old trees, and the snow crept closer, lapping house and garden up. \n",
            "\n",
            "You can't think how pleased Peter was a ball, and Jenny Wren had told him their true meaning. \n",
            "\n",
            "He was quite angry when these wither or snap the walls many brooms of various sizes. \n",
            "\n",
            "She then flung her sash into a side-walk, on the rail at the spot where the witches ride on it, and then she hurried away. So Malcolm would not let his mother put her arm around another little boy who wants a feast to keep, he must be alive after all; but, as it had belonged to a potting-shed, out of her they all gathered round him daily to watch him do these things, just as you fear my arm! But it was having a smart walk. \n",
            "\n",
            "The sweep's name was Sooty, and one day, when they come upon their mother furtively putting new frills on the wooden rail at the corner of his cleverness, that he could see the wonder wrought, how the house of a reel of thread, but still quite complete. \n",
            "\n",
            "Then he pressed a spring in the least. \n",
            "\n",
            "Then as you are lost; but there is no more fear was that the jug of milk was spilt! And you are wrestling with him clinging to the order mentioned in the least. \n",
            "\n",
            "One reason was that she was despising him. Wallflower juice is for the young ones to break their shells a day before the right of the day, except the number of their holly-leaves, and also a serene look that I gave a push-- and the sight of the eggs daily, and laughed at him for bits of it as Maimie. \n",
            "\n",
            "It is the poor little chaffinch fluttered about the ball to see what she asked for was Maimie's life. Perhaps you wonder why he did was to lie on his finger, though there were very few birds in winter. He was his caution with the seasons, putting on white when lilies are in holes, {why, mother'll knit some new! \n",
            "\n",
            "She did a very handsome length. Hänsel tells Gretel to beware and the reason he missed it was a kiss. \n",
            "\n",
            "If so, I think that whatever he was a good plan is to sign to you that she no longer knew she had once spent Saturday to Monday in Salford. \n",
            "\n",
            "Fourteen angels there must have noticed the little people crying everywhere that there are real kettles, and chestnut-blossom falls into bits, while groups of children suddenly surround Hänsel and Gretel, are at work--the boy making brooms and the garden dwindled at the window. \n",
            "\n",
            "What I enjoy is dance and waltzed in wild abandon round the fairy tongue, with his hands clasped, and from that moment his eyes were pinned to the gates! You are a lady to cry when you remember, Maimie was always to be something nice! But the kite broke to pieces in the water had washed Sooty clean, and he was tossed this way do aristocratic fairies travel about. \n",
            "\n",
            "All of them she was simply horrified. \n",
            "\n",
            "\n"
          ],
          "name": "stdout"
        }
      ]
    },
    {
      "cell_type": "code",
      "metadata": {
        "colab": {
          "base_uri": "https://localhost:8080/"
        },
        "id": "-mZa9Cj0Z41A",
        "outputId": "dccf51d8-dccd-47cc-ebe2-6626e7299dca"
      },
      "source": [
        "print(doc)"
      ],
      "execution_count": 10,
      "outputs": [
        {
          "output_type": "stream",
          "text": [
            "<!DOCTYPE html>\n",
            "<html>\n",
            "  <head>\n",
            "    <title>Hansel, Gretel, and Peter Pan</title>\n",
            "    <style>body {background-color:white; text-color:black}</style>\n",
            "  </head>\n",
            "  <body>\n",
            "    <p> It is only fit for a moment to spare, why can't he make the poor goose a new pair? Brownie held out her arms that this was pathetic and pretty, for the young ones to break a perilous passage with his little box, and to sit down at stand-up time, for instance, saw it quite captivating, yes, quite captivating! </p>\n",
            "    <p>Now make haste with cup and platter, bring the kettle-- here's a health to the window, wanting to kiss his mother, but with the powers of hell. III THE THRUSH'S NEST Shelley was a stocking belonging to some bathing person which had no intention of running you do so? O won't the mother and her nurse want her not to see when the man that you forget, and I have heard that she could hardly forget such an important thing as that. If mother would only come home till the basket brimful, I'll whip you so that you'll both find it anywhere. Very reluctantly Peter began to take David there nearly every day unless he was also partial to adventures, and liked to play at something else. </p>\n",
            "    <p>High in the snow. They hold their great glory and renown, they gave three huzzas for the young ones to break a perilous passage with his fingers. </p>\n",
            "    <p>The rest of her head. The way they gave three huzzas for the little human, and thought he had quite decided to appeal to the wrong ones. Now Peter knew not why, he looked upward, with his hands so numbed with the magic head, eyes are shut--pray who are very greedy too! Have you seen a fairy. Yes, yes, that sounds all very fine, but you seldom see them, partly because they live in the snare laid for us with cunning rare! </p>\n",
            "    <p>Of course, he could kick out he bowls unless you rob their nests, but a policeman has been appointed to hold on at the corner of a sweety-maker! </p>\n",
            "    <p>Now, strange to tell, the same sort of thing, and she knitted a kettle-holder for him, and even then he did was to be pitied for that? Gracious! there's goes the jug is smashed to bits? She says she sent them away in your babyhood, which it is their custom, clapped their hands, and she knitted a kettle-holder for him, and then she peeped from behind a tulip. </p>\n",
            "    <p>Won't we have on our right the Baby Walk and back, and when we went there were iron bars on it, and I sometimes follow, is to sign to you to dance to him what it is there when you come to it you never got anything done for you in the daytime. He is very sad. She then crosses with you in safety to the Gardens, and you remain here where you are! You, not Gretel, then will be just done to his great rejoicing, within full sight of her peril came upon Maimie; too late he runs back to his nose, and therefore, very little water came up, and she uttered a cry of terror and fled. And by day, for they are black, for night has its colours just as she may venture, because, if she could not ask for a girl! O Hänsel dear, O brother dear, d'you take me for a second, but they make it a little black cap upon his head. Now listen how it all to pieces! </p>\n",
            "    <p>An elderberry hobbled across the walk, and stood chatting with some young quinces, and they fear there is another little boy who wants a baby-sister, always take pains to write your address clearly. It so entranced her that she really was mad-dog, she unloosened both her boots. </p>\n",
            "    <p>He could be learned by one of the old one had let fall, and when he was quite the ordinary kind. He says he won't work any more and more and more and proposes they dance wildly about. Then, after you have forgotten all the time for I know the boards which tell at what time the Gardens after the manner of a big gingerbread cake, out of his eye. </p>\n",
            "    <p>He has been too late several times, and when you are holding the string. They tiptoe to the Hump, but you can't write down, for gradually you forget, and I noticed that Mr. Salford, who naturally does most of the Broad Walk, it would be time to see an elm-tree stretching out its arms and pretending to be a stern moralist; but the perambulator had gone, and he let her put her arm round his neck any more. He asked himself if he likes the letter he sends very funny ones indeed. </p>\n",
            "    <p>{ { If I am very glad to be put before them was really herself, so she pinched her cheeks, and then she peeped from behind a tulip. </p>\n",
            "    <p>Hänsel crowns Gretel queen of the delectable Gardens. Also, if he had meant to do; for all kinds of cricket: boy cricket, which is the poor goose a new one, because the common people will peep in to see that a hug from her splendid Peter would quickly make her to attend the ball was in search of he always went to him. Her face was flushed, but he is so full of water when Malcolm the Bold fell into arrears. Hunger is a fairy ball. </p>\n",
            "    <p>The oven cracks open and falls into your mug as you walk round, pulling her, you see little men running about her mother. But Maimie Mannering was the first thing he did was to teach Peter how to swim, but no one was Miss Mabel Grey's gate. </p>\n",
            "    <p>He thought she was sure he hurried that he would like, her mother made a suggestion. We ought to have felt a funny itching in that very evening. Still, she could hardly forget such an important thing as the English, though she could hardly forget such an awkward shape. </p>\n",
            "    <p>I shall lock you up too in a jerky sort of dainty delicious, to make them stand disgraced at the Big Penny and the look-out brought it to line their nests with mud, and as a result they did not know, for otherwise he would like to run away. All of them were asleep, including the last to go home, where you are! But she spoke no more, she made little moans only, and when she has called the roll, they all had crutches. </p>\n",
            "    <p>She stayed a moment to spare, why can't he make the poor thing's initials on it. Lest it was at night after the gates looking for them, because they live in the Gardens at the office of the talking, because he had spoken the bird knew us as friends, and sat in the whole of the cottage. </p>\n",
            "    <p>She sits very squat, for the young ones with his precious bank-note, for he had to tell the birds to build a boat. O yes, that's better far; and sing a song to keep us in silent night what this happy, happy day has brought tonight. Yes, Gretel, the angels is completed. Gretel fears being in the little house is twinkling, it is exactly like flowers, and change with the powers of hell. In a kind of way certainly, but that is called crickets here. They huddle together as a blackbird, though never did he satisfy the finches, and he has never had she got into this funny place? </p>\n",
            "    <p>O won't the mother and been unable to climb out. It's such a keen sense of her was her neck, which was blue in colour and of course it was only time now to walk by looking the other way, and tried to explain to her, it was a bird, even in appearance, just the same. </p>\n",
            "    <p>When a real human again, and I noticed that Mr. Salford, who naturally does most of the size of a Noah's Ark, but still quite complete. </p>\n",
            "    <p>VI PETER'S GOAT Maimie felt quite shy, but Peter replied that he was quite near it, and I once found a balloon. It suits them famously and apparently suits her too as she sometimes forgets your name and calls you Mildred, which is real cricket with a view into the forest. What is the little mound that her feet made, and he drew a picture, which diverted him very much, but, though he could see the chance had come back. He wanted to be pitied for that? </p>\n",
            "    <p>and when he told her the Kensington Gardens beckoning to him and passed out. If I am not so certain of it he slept by its side, and the really horrid ones crawl over the railing and scudded away up the walk closing the weeping trees. </p>\n",
            "    <p>He was an exultation in his sister's clothes. The one thing she was too much of a big gingerbread cake, out of a velvet texture, and of course it was his mother's boy, but hesitated about beginning to-night. </p>\n",
            "    <p>They behaved well on the water, but it became a bridge to far away among the women, and it was the great treat in store for me? </p>\n",
            "    <p>He was his caution with the wrong house. Of course, he had fashioned out of his father's office. </p>\n",
            "    <p>Lest it was long past Lock-out Time, but he pursued them with shining golden wings. I never slept so well, I know not how long. </p>\n",
            "    <p>Which, having avoided, he passed under the bridge and came, to his mother, he was now a little mantle of velvet brown. for dearly do I dream? O Gret, it would be carried on as usual. </p>\n",
            "    <p>He was a large fir-tree, under which Gretel is an urgent beast! </p>\n",
            "    <p>Yonder to the west. I quite know why he did believe he screamed with joy. Now get everything ready and nice, or else I shall tell you that cricket is called after Miss Mabel Grey, the Fig I promised to tell him what they knew and what a dreadful complaint, namely, inability to love, and though he was the beginning of fairies. Farther up the Baby Walk. She had shut her eyes were starting out of which Maimie had told him their true meaning. </p>\n",
            "    <p>Here's a health to the Thrush's Nest for his mother sleeping peacefully with her as if they feared that they are so dear, so dear, so dear, ah, so che-arming to eat! </p>\n",
            "    <p>Still, she could hear them hopping and cutting the wildest capers, till I was so fond of him. He was a sort of dainty delicious, to make them stand disgraced at the Round Pond to have a turn with me, I dare not try! Won't we have a yacht to sail it? You shall be the queen sometimes complains because the fairies do; she begins by following their ways, and it might waken her, so at last she saw a thousand swords flashing for her to get out by taking off the bed occupied. Here are the only kind of heart Solomon knew about, it was meant to be able to cross to the besom-maker! Gretel fears being in the Gardens, and hundreds of them had an extraordinary adventure. Twilight crept over the Gardens, and to think that he was an Oriental fairy, very poorly of a little wild during the week when he had a good many bears. The Big Penny is a blessing that he hid, but the nurses won't let you do it. </p>\n",
            "    <p>A cottage all made of bright worsted. You have probably observed that your mother was asleep, and how she knew where the sheep get their tablecloth. </p>\n",
            "    <p>When a real boy. </p>\n",
            "    <p>The children begin to nibble the grass at once, having been birds before they were fairies, so they were carted far away among the bushes for David's lost worsted ball, and instead of the ruins of the building of it was long past Lock-out Time, but he pursued them with shining wings. </p>\n",
            "    <p>Having escaped the danger of perishing of cold. </p>\n",
            "    <p>The fairies are all dragging the gingerbread children? He stooped and dipped his beak in the Broad Walk you meet with in the Gardens from seat to seat trying to fall in with somebody who was afraid; lights were extinguished, doors barricaded, and from that moment his eyes were pinned to the house-swallows when they hurry into the arms of her head. You never can be a bird, even in appearance, just the same as the English, though she is wearing her best frock, and so it went on for ever. They can't resist following the children, but you can't see them by dark. Both are thus in fine humor when he was a coward, for he knew what it was. </p>\n",
            "    <p>They came out of his eye. Peter heard the little wooden house near here, called the roll, and then you are drinking. </p>\n",
            "    <p>Gretel fears being in the whole of the Gardens, and when he heard loud noises that made him thirsty, so he decided to appeal to the Hump, quite as if it ruffles him he sends one from Class A, but if you are the colour of night, and always to be present. </p>\n",
            "    <p>It is a very brave boy, and no one to tell him what it was herself, and this put them into good-humour at once, but he pursued them with passionate tears. So much walking tired her, and to carry her to a place where the witches ride on broomsticks and devour little children. </p>\n",
            "    <p>He could be neither of these things, just as he is remembering, he says not, for these phrases are about the ways and customs of this was another unknown word, and he thought it was this: They all kissed their hands to his mother was not one of the gates knew about him. She crept forward until she is the wheel that keeps all the ladies of the Gardens closed that night. </p>\n",
            "    <p>It falls off the bed and had a sail, and with that memory came others, as that he was quite angry when these wither or snap the walls many brooms of various sizes. </p>\n",
            "    <p>Very reluctantly Peter began to take David there nearly every day unless he was doing was a lost child in a nightgown, and though this had not troubled him at the Round Pond. </p>\n",
            "    <p>Maimie cried, and even months, passed before he asked the fairies came trooping in that lovely house? But it is no such thing; they are so many of them wore anything. </p>\n",
            "    <p>Yonder to the order mentioned in the end of the German version followed by the shearing that it makes him especially kind to the Gardens if he had lain in bed planning to escape as soon as he often plays quite wrongly. </p>\n",
            "    <p>He said it, but Maimie saw them he entirely forgot that he even slept with one hand on it, and sometimes he looked upward, with his head thinking she was not an ordinary human and had the most wonderful things that your baby-sister wants to do them displeasure, but to pity rather than annoyed when he told her, as he had no more awful story of the house, and tra-la-la-ing me out of her real self was hidden far away among the fairies building the house, and in the Figs, it seemed impossible to explain to her, it was his sister. Dear little singers, good morning! They went through the arch of the Gardens, and he found no Maimie, and so as they went up the walk and saw Tony far in front while the Lord Chamberlain walks behind her, carrying two little pots, one of the bridge. The crafty mother-birds, when they should not have talked so loudly, for one moment, the balloons would lift her up, and whether the other side. For weeks I've eaten nought but bread-- It's very hard, it is soon time to see that a hug from her splendid Peter would quickly make her to smile. Occasionally swans touched on the hands or on the Round Pond, however much you try. They are people who despise money except what you please, and leave me in this, and he fell flop into it. Carpenters arrived with fairy carts and spades and seeds and bulbs and forcing-houses, and soon the bird ways as could be easier for the fairies, called out that night they will certainly mischief you, and so Solomon soon ran short of thrushes with which Mr. Salford leapt at him. Now Peter knew that it must be alive after all; but, as it gave no answer, he went nearer and felt it for him. </p>\n",
            "    <p>We are on the weeping-beech had flown away when he revealed how he revisited her. He wanted to go round. { { If I were to ask them how they taste. hunger is the use, growling and grumbling, full of water when Malcolm the Bold fell into sad thoughts, and then ask them what they were fairies, they rush home and tell their mothers they have perfect faith, for to have a care! Many times she lay down, and they all to be humans, and other birds were extremely jealous, and said that they bring them in the bushes! There is bread-and-butter to begin with, of the verandah, and a vegetable garden to the town of Salford, and when she heard talking through her dreams she thought it was meant to make it almost worse. I should have been a good many fairies about, all too busy to notice him; they were playing near the bridge, and he sat down and group themselves about the ball to their harms. How now!-- The hungry beast within my breast called so for food I could not remember what was the ordinary kind in the distance with a crinching, crunching, munching sound, and echo repeat it all came here! </p>\n",
            "    <p>One of her they all came about! </p>\n",
            "    <p>At first this little damsel was afraid that if she could not remember what was the beginning of fairies. </p>\n",
            "    <p>The windows were the only house in which Marmaduke Perry hid. </p>\n",
            "    <p>What! the jug all to be broke against the bridge. Yes, there's a jug of milk was spilt! </p>\n",
            "    <p>For weeks I've eaten nought but bread-- It's very hard, it is their only chance of his starting, whereupon he shortened sail, by removing one of them. Of course, the fairies building the house, and in the oven begins crackling loudly, and the fairies are all dragging the gingerbread children? </p>\n",
            "    <p>I do not try, fixed you are as small as David, you sleep from twelve to one. What's glimmering there in two minds. </p>\n",
            "    <p>Come, let's nibble a bit at the foot of the yachts that used to sing so sweetly; from early dawn they are never exactly grown-up. Now, if you leap into each other's arms it is not the Mabel Grey whom David knows. But say, what will you with cunning rare! How the thrushes were sulky. </p>\n",
            "    <p>But when they hurry into the world, and such a bore! He was a magnificent fellow of six, took notice of her, and to think you have run about half-way down it, and after it was quite grown up, and that not so sure that you may gather from his talk that he has remembered a youthful desire to do it instead of at seven. Eat what you please, and leave me in this, and living with me too. </p>\n",
            "    <p>On the right way, and then told him to stand to their temples, for, having been birds before they were in an uproar. Night passes in a twink, and again your rakish craft noses for the little house that they laughed at Peter for being so fond of toys that, were he to be a real good chance. He could scarcely get out by the shearing that it was quite unaware already that he was waiting for a smart dance nowadays without him. </p>\n",
            "    <p>It is the little house, or maybe it now read five o'clock for closing-time. When his stocking was full, Solomon calculated that he was now a little moan at this, and think it must be between the fairies pretty well, and you may be sure, was back in the right time by being mad-dog or Mary-Annish. </p>\n",
            "    <p>Yes, the day is dawning; awake, for it without returning to the wood all filled with an intense light. They are listed at the other the juice of wallflower and the garden dwindled at the corner of his heart. I should have been the mother's love-letters to the order mentioned in the least. Then she heard _clang_, then _clang, clang_ far away. They loosened the rails before he sat down and group themselves about the bushes, looking so reproachfully at us that we can see the smoke and the fairies for his wish too long it might have been a fine indifference and a stick until she is talking an intelligible language. The bow-legged children in the Gardens who puff and blow as if they feared that they saw she was a lost child in a perambulator. </p>\n",
            "    <p>That's why the children to me your arm must proffer, I shall lock you up too in a swell of protest against all puling cowards she ran to look at her. Heaps of children suddenly surround Hänsel and Gretel draws him back. But the kite broke to pieces in the middle of the angels is completed. Leave me, I pray; come here to me, come here to me, the understanding being that it took place a long train held up by catching his bootlace, and bribed the ducks on the Hump, it is such a goose, don't understand! The sweep's name was Brownie, and that there were a good deal. The oven cracks open and falls into your mug as you walk round, pulling her, you see little men running about her father and the birds would love to have thought and gone to sleep. </p>\n",
            "    <p>What do you do run when you remember, Maimie was always to be off, for it still humiliated him. { { Tralala, tralala, hip hurrah! They ride on it, and I once found a jolly harbour, he was perplexed. </p>\n",
            "    <p>At this moment the mother enters and she stole away to a hundred favourite spots. </p>\n",
            "    <p>It is a blessing that he was drifted towards the oven begins crackling loudly, and the Baby's Palace and the painters insisted on painting it. </p>\n",
            "    <p>She thought one of the music by Engelbert Humperdinck Entered according to the pond. What he really needed to know what to do. </p>\n",
            "    <p>Amongst the bushes for David's lost worsted ball, and Jenny Wren had told him that he did believe he screamed with delight when he found a fairy who had killed a good deal. They want to go to the Kensington Gardens, he made nice little water-troughs near the well, Malcolm fell in and rescued him; and the Queen sees them doing it. </p>\n",
            "    <p>Cuckoo, why do you think was the second at their feet, the third act the scene is the stick-boat that is why Peter loves them best of all this sadness was that he often plays it by himself, but even the ducks to sink his boat. They can't resist following the children, but you can't see them doing this she is beside herself and seizes a basket and tells the children to the Crystal Palace and the way home now, though of course, but outside it is as much bigger than you. </p>\n",
            "    <p>Then one day they were getting breakfast ready, milking their cows, drawing water, and so it went on for ever. </p>\n",
            "    <p>This is one week, and though it was alive, he addressed it politely; and then, but to be open for him. He had to leave it and says how nice you'd be to her. </p>\n",
            "    <p>He does this at once if it began little, and grew and grew, until it met itself, and where the sheep get their tablecloth. Then there is also a company of them all his life. It must have been mad-dog or Mary-Annish. </p>\n",
            "    <p>An awful sense of her nightgown were! I quite know why he was an exultation in his nest still, and has a right to return to the fairies to turn back before we reach the Gardens, and hundreds of them carried an arrow which some boy had left in the middle of the scenery, and presently he called the roll, and then a light was streaming, rays of glory from Heaven beaming, and a cage. </p>\n",
            "    <p>Go away from the upper window he had the hood over her head. He often played ships at the nest, and the way except the number of pieces of cake thrown to them. </p>\n",
            "    <p>Hänsel tastes it and says the Gardens after Lock-out Time, and henceforth Peter could go whither he chose, and the door rather smaller, but it is a safe thing to do, so that nothing of this place, and were they not so sure that I fear she did so. </p>\n",
            "    <p>For weeks I've eaten nought but bread-- It's very hard, it is all pretence that they would help him no more in his honour; and another comfortable reason was that she boxes their ears for it. It was the great thing she was not in the branches I hear a gentle twittering, birds are about fun and adventures, and the mud had dried he always slept in it, and unless you are holding the string. </p>\n",
            "    <p>And in the Gardens, because it is so soon time to the window, which was full of water when Malcolm the Bold fell into arrears. It is a famous gentle place, as spots frequented by fairies are all in holes, {why, mother'll knit some new! Very gently he patted the little house is twinkling, it is almost nothing that has such a one was Miss Mabel Grey, of whom I shall not refuse your offer! This night the ribbons were red, and looked as if they feared that they are frightened. </p>\n",
            "    <p>When a real good chance. Nothing can be sorry for him for that, but don't be too sorry, for the little house was first built. He wakes up his mind that his first voyage to the top of the gates; she heard the like, and he sings them to prevent them going on there ever since. When they think you the children are. </p>\n",
            "    <p>He was so great that it now read five o'clock for closing-time. But no, for another two ran up a ladder and put away, and then everybody adjourns to the Ilsenstein. Maimie slipped her hand into Tony's, and hers was hot, but his ship was only a hoop which he had been in the fire will soon be ripe to push off, then he gave a great thrushes nest! Standing on the walls of the angels are beck'ning us in! Again, a number of other tall trees were doing the same idea had come at exactly the same thing yourself! In the third act the scene is the little plants beneath with snow. But if it was his first wish was to teach him to the nursery she wondered whether this was pathetic and pretty, for the next time there was not afraid. But you must not come with peace and love, and send the children were forbidden the Gardens, and you may be thankful! He could scarcely get out of a sweety-maker! Queen of the gates knew about him. They were sitting by this time all the steps and they had to tell you now why he delayed so long. </p>\n",
            "    <p>The Big Penny and the reason was that she boxes their ears for it. </p>\n",
            "    <p>We thank, we thank! Come, let's nibble a bit at the window. </p>\n",
            "    <p>Then he had no need of oars, for he had never heard of them, climb up the Baby Walk and back again! </p>\n",
            "    <p>A milkmaid turned her pail upside down and group themselves about the ways and customs of babies in the Broad Walk, and it might go bad. and guard the little wooden house, and refused to emerge until they brought him news of how boys and girls play, and of course showed off her scarf and gave it a little black cup upon his head? The glow-worm light was streaming, rays of glory from Heaven beaming, and a disturbing creature called Angela Clare sent down so many of the fairies, and almost the only thing known for certain that he often did with splendid firmness, that one day when she heard the like, and he hopped down to naughtiness. But those yachts have nothing in their beaks and flew away to his mother, and I think that he was quite certain that he could see them through the hours you sleep. But even when she was anxious to be careful what you say such things? </p>\n",
            "    <p>The wind, the wind, whales spout, you glide over buried cities, and have a twirl, my dearest Hänsel, come and have a glad heart. </p>\n",
            "    <p>She lay with her shoulders hunched up. They run off while she, weary of waiting for a real human again, and scarcely wanted to escape, it shows how completely you have been another one that was bigger. Many nights, and even then he tells it to him. They both complain of feeling very hungry, and there was to be pitied for that? It is wonderful that he could build better than a wood-pigeon, and nearly as well he may, somewhat less than yesterday! But you must not come home till the basket brimful, I'll whip you so that does not matter in the Broad Walk, armed with holly-leaves, with which to supply the demand from the corner of his bank-note, and sent it sailing on the floor when she has seen the light, so that is how Peter got the goat on which all the birds. I'll go indoors, the things to prepare, and you remember a good deal of excavation going on there ever since. he wears a little dog's kennel, and now of a piece of the pond, but their mad pranking; as I say, it's merely play! </p>\n",
            "    <p>Does any one who laughs continuously because there are children. Nor was this all that Peter Pan comes round. { Tralala, tralala, hip hurrah! </p>\n",
            "    <p>There is bread-and-butter to begin with, of the opening of the German version followed by the English version. That was very much startled, and looked very pretty on the water, on each side, and he would take every one complete. and guard the little people leave behind them, and he could not swim. Pretend to do all sorts of things that happen in the Gardens are to close at six-thirty, for instance, and he hopped down to naughtiness. With your head above the angels are beck'ning us in! Her fits of passion, which are unknown to the dance, the Queen walking in the trunks and they are boats. He alighted gaily on the Serpentine as his guides, but far away he saw her first fairy. How the thrushes were sulky. It was a thrush, and though the ball was in the daytime. </p>\n",
            "    <p>He puts them in the pillow was like a kitten. </p>\n",
            "    <p>There was something he wanted done to his own home he skimmed away over St. Paul's to the island. </p>\n",
            "    <p>His face was flushed, but he pursued them with passionate tears. </p>\n",
            "    <p>Trumpets brayed, the moon came out, and then the mothers would turn round sharply. Well, she followed the ribbon to a civil question, and he was an encouragement to the besom-maker! Maimie cried, and even harder, he distinctly remembered a number of fledglings through the night he stayed so late at night after the manner of a Noah's Ark, but still you could see the trees and shake the branches, and the Round Pond, but nurses hate it, because they are not a word of it. </p>\n",
            "    <p>Nearly all the Gardens after Lock-out Time, for there were very few birds in winter. Every night the ducks to sink his boat. Lest it was really Peter's, but Solomon did try another drink, and it inspired him. Yes, yes, that sounds all very fine, but you seldom see them, partly because they seem less lonely. </p>\n",
            "    <p>Sometimes you will find mushrooms inside the ring, and they would press their hands with delight over their cleverness, and they stand quite still pretending to be nestling in her arms imploringly the snow crept closer, lapping house and garden up. Come with me, I dare say the least! </p>\n",
            "    <p>But Maimie's curiosity tugged her forward, and presently he called the Lost House, and so eager was he to be queen of the kite; he loved it was a thrush, and though David tried to catch a fly he did not understand. When a real boy. Know you what the governess nor the girls dare let on that they are black, for night has its colours just as he persisted in his sister's clothes. If the bad ones among the fairies do; she begins by following their ways, and it is you that she was once more asleep, with tears on her face were her mother made a suggestion. Soon the Gardens we paid a call at the office of the Little House in the evening hymn, around the sleeping children; the first few weeks, and very twisty, and have brushes with pirates, and cast anchor on coral isles. </p>\n",
            "  </body>\n",
            "</html>\n"
          ],
          "name": "stdout"
        }
      ]
    },
    {
      "cell_type": "markdown",
      "metadata": {
        "id": "Bch03m2wuZRe"
      },
      "source": [
        "# New Section"
      ]
    }
  ]
}